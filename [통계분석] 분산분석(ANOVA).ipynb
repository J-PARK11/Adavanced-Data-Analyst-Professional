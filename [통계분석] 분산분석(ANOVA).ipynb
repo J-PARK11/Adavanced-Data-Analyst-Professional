{
 "cells": [
  {
   "cell_type": "markdown",
   "id": "6dea383f",
   "metadata": {},
   "source": [
    "# 분산분석(ANOVA)"
   ]
  },
  {
   "cell_type": "code",
   "execution_count": 92,
   "id": "b8e813f4",
   "metadata": {},
   "outputs": [],
   "source": [
    "import pandas as pd\n",
    "import numpy as np\n",
    "import matplotlib as mpl\n",
    "import  matplotlib.pyplot as plt\n",
    "import seaborn as sns\n",
    "\n",
    "mpl.rcParams['font.family'] = 'Malgun Gothic'\n",
    "mpl.rcParams['axes.unicode_minus'] = False\n",
    "plt.style.use(\"ggplot\")\n",
    "from IPython.display import set_matplotlib_formats\n",
    "set_matplotlib_formats(\"retina\")\n",
    "\n",
    "import warnings\n",
    "warnings.filterwarnings(\"ignore\")\n",
    "\n",
    "from sklearn.datasets import load_iris\n",
    "from sklearn.model_selection import train_test_split\n",
    "\n",
    "from scipy import stats\n",
    "import statsmodels.formula.api as smf\n",
    "import statsmodels.api as sm\n",
    "from statsmodels.stats.multicomp import pairwise_tukeyhsd"
   ]
  },
  {
   "cell_type": "markdown",
   "id": "bfab4b97",
   "metadata": {},
   "source": [
    "## 일원배치 분산분석(One-Way ANOVA)"
   ]
  },
  {
   "cell_type": "markdown",
   "id": "2fa75b13",
   "metadata": {},
   "source": [
    "### 정상성, 독립성, 등분산성 검증"
   ]
  },
  {
   "cell_type": "code",
   "execution_count": 60,
   "id": "51aedb37",
   "metadata": {},
   "outputs": [
    {
     "name": "stdout",
     "output_type": "stream",
     "text": [
      "iris_df.shape : (150, 5)\n"
     ]
    },
    {
     "data": {
      "text/html": [
       "<div>\n",
       "<style scoped>\n",
       "    .dataframe tbody tr th:only-of-type {\n",
       "        vertical-align: middle;\n",
       "    }\n",
       "\n",
       "    .dataframe tbody tr th {\n",
       "        vertical-align: top;\n",
       "    }\n",
       "\n",
       "    .dataframe thead th {\n",
       "        text-align: right;\n",
       "    }\n",
       "</style>\n",
       "<table border=\"1\" class=\"dataframe\">\n",
       "  <thead>\n",
       "    <tr style=\"text-align: right;\">\n",
       "      <th></th>\n",
       "      <th>sepal length</th>\n",
       "      <th>sepal width</th>\n",
       "      <th>petal length</th>\n",
       "      <th>petal width</th>\n",
       "      <th>Species</th>\n",
       "    </tr>\n",
       "  </thead>\n",
       "  <tbody>\n",
       "    <tr>\n",
       "      <th>0</th>\n",
       "      <td>5.1</td>\n",
       "      <td>3.5</td>\n",
       "      <td>1.4</td>\n",
       "      <td>0.2</td>\n",
       "      <td>setosa</td>\n",
       "    </tr>\n",
       "    <tr>\n",
       "      <th>1</th>\n",
       "      <td>4.9</td>\n",
       "      <td>3.0</td>\n",
       "      <td>1.4</td>\n",
       "      <td>0.2</td>\n",
       "      <td>setosa</td>\n",
       "    </tr>\n",
       "    <tr>\n",
       "      <th>2</th>\n",
       "      <td>4.7</td>\n",
       "      <td>3.2</td>\n",
       "      <td>1.3</td>\n",
       "      <td>0.2</td>\n",
       "      <td>setosa</td>\n",
       "    </tr>\n",
       "    <tr>\n",
       "      <th>3</th>\n",
       "      <td>4.6</td>\n",
       "      <td>3.1</td>\n",
       "      <td>1.5</td>\n",
       "      <td>0.2</td>\n",
       "      <td>setosa</td>\n",
       "    </tr>\n",
       "    <tr>\n",
       "      <th>4</th>\n",
       "      <td>5.0</td>\n",
       "      <td>3.6</td>\n",
       "      <td>1.4</td>\n",
       "      <td>0.2</td>\n",
       "      <td>setosa</td>\n",
       "    </tr>\n",
       "  </tbody>\n",
       "</table>\n",
       "</div>"
      ],
      "text/plain": [
       "   sepal length  sepal width  petal length  petal width Species\n",
       "0           5.1          3.5           1.4          0.2  setosa\n",
       "1           4.9          3.0           1.4          0.2  setosa\n",
       "2           4.7          3.2           1.3          0.2  setosa\n",
       "3           4.6          3.1           1.5          0.2  setosa\n",
       "4           5.0          3.6           1.4          0.2  setosa"
      ]
     },
     "execution_count": 60,
     "metadata": {},
     "output_type": "execute_result"
    }
   ],
   "source": [
    "iris = load_iris()\n",
    "iris_df = pd.DataFrame(iris.data, columns = [word[:-5] for word in iris.feature_names])\n",
    "iris_df['Species'] = iris.target_names[iris.target]\n",
    "print('iris_df.shape :',iris_df.shape)\n",
    "iris_df.head()"
   ]
  },
  {
   "cell_type": "code",
   "execution_count": 61,
   "id": "dd8ee951",
   "metadata": {},
   "outputs": [
    {
     "data": {
      "text/plain": [
       "array(['setosa', 'versicolor', 'virginica'], dtype='<U10')"
      ]
     },
     "execution_count": 61,
     "metadata": {},
     "output_type": "execute_result"
    }
   ],
   "source": [
    "iris.target_names"
   ]
  },
  {
   "cell_type": "code",
   "execution_count": 62,
   "id": "497a0ecd",
   "metadata": {},
   "outputs": [
    {
     "name": "stdout",
     "output_type": "stream",
     "text": [
      "sts.shape : (50,)\n",
      "vsc.shape : (50,)\n",
      "vgn.shape : (50,)\n"
     ]
    }
   ],
   "source": [
    "sts = iris_df[iris_df['Species']=='setosa']['sepal width']\n",
    "vsc = iris_df[iris_df['Species']=='versicolor']['sepal width']\n",
    "vgn = iris_df[iris_df['Species']=='virginica']['sepal width']\n",
    "\n",
    "print('sts.shape :',sts.shape)\n",
    "print('vsc.shape :',vsc.shape)\n",
    "print('vgn.shape :',vgn.shape)"
   ]
  },
  {
   "cell_type": "code",
   "execution_count": 63,
   "id": "590b99b6",
   "metadata": {},
   "outputs": [
    {
     "name": "stdout",
     "output_type": "stream",
     "text": [
      "sts normality: ShapiroResult(statistic=0.97171950340271, pvalue=0.2715264856815338)\n",
      "vsc normality: ShapiroResult(statistic=0.9741330742835999, pvalue=0.33798879384994507)\n",
      "vgn normality: ShapiroResult(statistic=0.9673910140991211, pvalue=0.1809043288230896)\n"
     ]
    }
   ],
   "source": [
    "# 정상성 검증\n",
    "print('sts normality:',stats.shapiro(sts))\n",
    "print('vsc normality:',stats.shapiro(vsc))\n",
    "print('vgn normality:',stats.shapiro(vgn))\n",
    "# 세 집단 모두 샤피로-윌크 테스트 검정 결과, 유의확률이 유의수준 0.05보다 큼으로 정상성을 만족한다."
   ]
  },
  {
   "cell_type": "code",
   "execution_count": 64,
   "id": "a64af4f1",
   "metadata": {},
   "outputs": [
    {
     "data": {
      "text/html": [
       "<div>\n",
       "<style scoped>\n",
       "    .dataframe tbody tr th:only-of-type {\n",
       "        vertical-align: middle;\n",
       "    }\n",
       "\n",
       "    .dataframe tbody tr th {\n",
       "        vertical-align: top;\n",
       "    }\n",
       "\n",
       "    .dataframe thead th {\n",
       "        text-align: right;\n",
       "    }\n",
       "</style>\n",
       "<table border=\"1\" class=\"dataframe\">\n",
       "  <thead>\n",
       "    <tr style=\"text-align: right;\">\n",
       "      <th>Species</th>\n",
       "      <th>setosa</th>\n",
       "      <th>versicolor</th>\n",
       "      <th>virginica</th>\n",
       "    </tr>\n",
       "  </thead>\n",
       "  <tbody>\n",
       "    <tr>\n",
       "      <th>sepal length</th>\n",
       "      <td>5.006</td>\n",
       "      <td>5.936</td>\n",
       "      <td>6.588</td>\n",
       "    </tr>\n",
       "    <tr>\n",
       "      <th>sepal width</th>\n",
       "      <td>3.428</td>\n",
       "      <td>2.770</td>\n",
       "      <td>2.974</td>\n",
       "    </tr>\n",
       "    <tr>\n",
       "      <th>petal length</th>\n",
       "      <td>1.462</td>\n",
       "      <td>4.260</td>\n",
       "      <td>5.552</td>\n",
       "    </tr>\n",
       "    <tr>\n",
       "      <th>petal width</th>\n",
       "      <td>0.246</td>\n",
       "      <td>1.326</td>\n",
       "      <td>2.026</td>\n",
       "    </tr>\n",
       "  </tbody>\n",
       "</table>\n",
       "</div>"
      ],
      "text/plain": [
       "Species       setosa  versicolor  virginica\n",
       "sepal length   5.006       5.936      6.588\n",
       "sepal width    3.428       2.770      2.974\n",
       "petal length   1.462       4.260      5.552\n",
       "petal width    0.246       1.326      2.026"
      ]
     },
     "execution_count": 64,
     "metadata": {},
     "output_type": "execute_result"
    }
   ],
   "source": [
    "# 독립성 검정\n",
    "iris_ct = iris_df.groupby('Species').mean().T\n",
    "iris_ct"
   ]
  },
  {
   "cell_type": "code",
   "execution_count": 65,
   "id": "9a656559",
   "metadata": {},
   "outputs": [
    {
     "name": "stdout",
     "output_type": "stream",
     "text": [
      "2.5116795480523555 0.8671582547635888\n"
     ]
    }
   ],
   "source": [
    "stat,p_value,_,_ = stats.chi2_contingency(iris_ct)\n",
    "print(stat, p_value)\n",
    "# 카이제곱 독립성 검정 결과, 유의확률이 유의수준 0.05보다 크므로 세 집단 간의 독립성이 보장된다."
   ]
  },
  {
   "cell_type": "code",
   "execution_count": 66,
   "id": "f6fcb03c",
   "metadata": {},
   "outputs": [
    {
     "data": {
      "text/plain": [
       "LeveneResult(statistic=0.5902115655853319, pvalue=0.5555178984739075)"
      ]
     },
     "execution_count": 66,
     "metadata": {},
     "output_type": "execute_result"
    }
   ],
   "source": [
    "# 등분산성 검정\n",
    "stats.levene(sts,vsc,vgn)\n",
    "# levene 등분산성 검정 결과, 유의확률이 유의수준 0.05보다 크므로 세 집단 간의 등분산성이 보장된다."
   ]
  },
  {
   "cell_type": "markdown",
   "id": "15d2c4f3",
   "metadata": {},
   "source": [
    "### 분산분석표 & 사후검정 수행"
   ]
  },
  {
   "cell_type": "code",
   "execution_count": 67,
   "id": "e9a311b9",
   "metadata": {},
   "outputs": [
    {
     "data": {
      "text/plain": [
       "F_onewayResult(statistic=49.160040089612075, pvalue=4.492017133309115e-17)"
      ]
     },
     "execution_count": 67,
     "metadata": {},
     "output_type": "execute_result"
    }
   ],
   "source": [
    "# 일원배치 분산분석 수행 -> 정상성을 만족할 경우\n",
    "stats.f_oneway(sts, vsc, vgn)\n",
    "# 일원배치 분산분석 수행 결과, 유의확률이 유의수준 0.05보다 작으므로 각 집단 속에서 적어도 한 집단에서 평균의 차이가 존재한다."
   ]
  },
  {
   "cell_type": "code",
   "execution_count": 138,
   "id": "f7df1dbc",
   "metadata": {},
   "outputs": [
    {
     "data": {
      "text/plain": [
       "KruskalResult(statistic=63.571146104163795, pvalue=1.5692820940316782e-14)"
      ]
     },
     "execution_count": 138,
     "metadata": {},
     "output_type": "execute_result"
    }
   ],
   "source": [
    "# 크루스칼 월리스 일원배치 분산분석 (Kruskal Wallis) -> 비정상성\n",
    "stats.kruskal(sts,vsc,vgn)\n",
    "# 일원배치 분산분석 수행 결과, 유의확률이 유의수준 0.05보다 작으므로 각 집단 속에서 적어도 한 집단에서 평균의 차이가 존재한다."
   ]
  },
  {
   "cell_type": "code",
   "execution_count": null,
   "id": "1c3d0846",
   "metadata": {},
   "outputs": [],
   "source": [
    "# 분산분석표 출력\n",
    "df_1way = iris_df[['Species','sepal width']]\n",
    "df_1way.rename(columns={'sepal width':'sepal_width'},inplace=True)\n",
    "print('df_1way.shape :',df_1way.shape)\n",
    "df_1way.head()"
   ]
  },
  {
   "cell_type": "code",
   "execution_count": 88,
   "id": "3918dbe8",
   "metadata": {},
   "outputs": [
    {
     "name": "stdout",
     "output_type": "stream",
     "text": [
      "             sum_sq     df         F        PR(>F)\n",
      "Species   11.344933    2.0  49.16004  4.492017e-17\n",
      "Residual  16.962000  147.0       NaN           NaN\n"
     ]
    }
   ],
   "source": [
    "import statsmodels.formula.api as smf\n",
    "import statsmodels.api as sm\n",
    "\n",
    "# 선형 회귀 모델 생성\n",
    "reg = smf.ols(formula = 'sepal_width ~ Species', data=df_1way)\n",
    "reg_fit = reg.fit()\n",
    "\n",
    "# show anova table\n",
    "anova_table = sm.stats.anova_lm(reg_fit, typ=2)\n",
    "print(anova_table)"
   ]
  },
  {
   "cell_type": "code",
   "execution_count": 103,
   "id": "c1b9d7b6",
   "metadata": {},
   "outputs": [
    {
     "name": "stdout",
     "output_type": "stream",
     "text": [
      "    Multiple Comparison of Means - Tukey HSD, FWER=0.05     \n",
      "============================================================\n",
      "  group1     group2   meandiff p-adj   lower   upper  reject\n",
      "------------------------------------------------------------\n",
      "    setosa versicolor   -0.658  0.001 -0.8189 -0.4971   True\n",
      "    setosa  virginica   -0.454  0.001 -0.6149 -0.2931   True\n",
      "versicolor  virginica    0.204 0.0088  0.0431  0.3649   True\n",
      "------------------------------------------------------------\n"
     ]
    }
   ],
   "source": [
    "# 사후분석 수행 (setosa, versicolor, verginica)\n",
    "from statsmodels.stats.multicomp import pairwise_tukeyhsd\n",
    "tukey = pairwise_tukeyhsd(endog = iris_df['sepal width'], groups=iris_df['Species'])\n",
    "print(tukey)\n",
    "# TukeyHSD 사후분석 결과, 모든 pair의 유의확률이 유의수준 0.05보다 작으므로\n",
    "# pair마다 평균의 차이가 있으며, setosa > virginica > versicolor 순으로 평균을 보인다."
   ]
  },
  {
   "cell_type": "code",
   "execution_count": 104,
   "id": "ecddd5b1",
   "metadata": {},
   "outputs": [
    {
     "name": "stdout",
     "output_type": "stream",
     "text": [
      "Figure(720x432)\n"
     ]
    },
    {
     "data": {
      "image/png": "[encoded data removed]",
      "text/plain": [
       "<Figure size 720x432 with 1 Axes>"
      ]
     },
     "metadata": {
      "image/png": {
       "height": 375,
       "width": 622
      }
     },
     "output_type": "display_data"
    }
   ],
   "source": [
    "print(tukey.plot_simultaneous())"
   ]
  },
  {
   "cell_type": "code",
   "execution_count": 105,
   "id": "9c6ab214",
   "metadata": {},
   "outputs": [
    {
     "name": "stdout",
     "output_type": "stream",
     "text": [
      "    Multiple Comparison of Means - Tukey HSD, FWER=0.05     \n",
      "============================================================\n",
      "  group1     group2   meandiff p-adj   lower   upper  reject\n",
      "------------------------------------------------------------\n",
      "    setosa versicolor   -0.658  0.001 -0.8189 -0.4971   True\n",
      "    setosa  virginica   -0.454  0.001 -0.6149 -0.2931   True\n",
      "versicolor  virginica    0.204 0.0088  0.0431  0.3649   True\n",
      "------------------------------------------------------------\n"
     ]
    }
   ],
   "source": [
    "print(tukey.summary())"
   ]
  },
  {
   "cell_type": "code",
   "execution_count": 121,
   "id": "d72a7451",
   "metadata": {},
   "outputs": [
    {
     "name": "stdout",
     "output_type": "stream",
     "text": [
      "setosa : 3.43\n",
      "virginica : 2.97\n",
      "versicolor : 2.77\n"
     ]
    }
   ],
   "source": [
    "# 실제 평균\n",
    "print('setosa :',np.round(iris_df[iris_df['Species']=='setosa']['sepal width'].mean(),2))\n",
    "print('virginica :',np.round(iris_df[iris_df['Species']=='virginica']['sepal width'].mean(),2))\n",
    "print('versicolor :',np.round(iris_df[iris_df['Species']=='versicolor']['sepal width'].mean(),2))"
   ]
  },
  {
   "cell_type": "markdown",
   "id": "a7abb0b1",
   "metadata": {},
   "source": [
    "## 이원배치 분산분석(Two-way ANOVA)"
   ]
  },
  {
   "cell_type": "markdown",
   "id": "f0f5f7b6",
   "metadata": {},
   "source": [
    "### 정상성, 등분산성 검정"
   ]
  },
  {
   "cell_type": "code",
   "execution_count": 125,
   "id": "6e6df180",
   "metadata": {},
   "outputs": [
    {
     "name": "stdout",
     "output_type": "stream",
     "text": [
      "결측치 : 0\n",
      "mtcars.shape : (32, 12)\n"
     ]
    },
    {
     "data": {
      "text/html": [
       "<div>\n",
       "<style scoped>\n",
       "    .dataframe tbody tr th:only-of-type {\n",
       "        vertical-align: middle;\n",
       "    }\n",
       "\n",
       "    .dataframe tbody tr th {\n",
       "        vertical-align: top;\n",
       "    }\n",
       "\n",
       "    .dataframe thead th {\n",
       "        text-align: right;\n",
       "    }\n",
       "</style>\n",
       "<table border=\"1\" class=\"dataframe\">\n",
       "  <thead>\n",
       "    <tr style=\"text-align: right;\">\n",
       "      <th></th>\n",
       "      <th>model</th>\n",
       "      <th>mpg</th>\n",
       "      <th>cyl</th>\n",
       "      <th>disp</th>\n",
       "      <th>hp</th>\n",
       "      <th>drat</th>\n",
       "      <th>wt</th>\n",
       "      <th>qsec</th>\n",
       "      <th>vs</th>\n",
       "      <th>am</th>\n",
       "      <th>gear</th>\n",
       "      <th>carb</th>\n",
       "    </tr>\n",
       "  </thead>\n",
       "  <tbody>\n",
       "    <tr>\n",
       "      <th>0</th>\n",
       "      <td>Mazda RX4</td>\n",
       "      <td>21.0</td>\n",
       "      <td>6</td>\n",
       "      <td>160.0</td>\n",
       "      <td>110</td>\n",
       "      <td>3.90</td>\n",
       "      <td>2.620</td>\n",
       "      <td>16.46</td>\n",
       "      <td>0</td>\n",
       "      <td>1</td>\n",
       "      <td>4</td>\n",
       "      <td>4</td>\n",
       "    </tr>\n",
       "    <tr>\n",
       "      <th>1</th>\n",
       "      <td>Mazda RX4 Wag</td>\n",
       "      <td>21.0</td>\n",
       "      <td>6</td>\n",
       "      <td>160.0</td>\n",
       "      <td>110</td>\n",
       "      <td>3.90</td>\n",
       "      <td>2.875</td>\n",
       "      <td>17.02</td>\n",
       "      <td>0</td>\n",
       "      <td>1</td>\n",
       "      <td>4</td>\n",
       "      <td>4</td>\n",
       "    </tr>\n",
       "    <tr>\n",
       "      <th>2</th>\n",
       "      <td>Datsun 710</td>\n",
       "      <td>22.8</td>\n",
       "      <td>4</td>\n",
       "      <td>108.0</td>\n",
       "      <td>93</td>\n",
       "      <td>3.85</td>\n",
       "      <td>2.320</td>\n",
       "      <td>18.61</td>\n",
       "      <td>1</td>\n",
       "      <td>1</td>\n",
       "      <td>4</td>\n",
       "      <td>1</td>\n",
       "    </tr>\n",
       "    <tr>\n",
       "      <th>3</th>\n",
       "      <td>Hornet 4 Drive</td>\n",
       "      <td>21.4</td>\n",
       "      <td>6</td>\n",
       "      <td>258.0</td>\n",
       "      <td>110</td>\n",
       "      <td>3.08</td>\n",
       "      <td>3.215</td>\n",
       "      <td>19.44</td>\n",
       "      <td>1</td>\n",
       "      <td>0</td>\n",
       "      <td>3</td>\n",
       "      <td>1</td>\n",
       "    </tr>\n",
       "    <tr>\n",
       "      <th>4</th>\n",
       "      <td>Hornet Sportabout</td>\n",
       "      <td>18.7</td>\n",
       "      <td>8</td>\n",
       "      <td>360.0</td>\n",
       "      <td>175</td>\n",
       "      <td>3.15</td>\n",
       "      <td>3.440</td>\n",
       "      <td>17.02</td>\n",
       "      <td>0</td>\n",
       "      <td>0</td>\n",
       "      <td>3</td>\n",
       "      <td>2</td>\n",
       "    </tr>\n",
       "  </tbody>\n",
       "</table>\n",
       "</div>"
      ],
      "text/plain": [
       "               model   mpg  cyl   disp   hp  drat     wt   qsec  vs  am  gear  \\\n",
       "0          Mazda RX4  21.0    6  160.0  110  3.90  2.620  16.46   0   1     4   \n",
       "1      Mazda RX4 Wag  21.0    6  160.0  110  3.90  2.875  17.02   0   1     4   \n",
       "2         Datsun 710  22.8    4  108.0   93  3.85  2.320  18.61   1   1     4   \n",
       "3     Hornet 4 Drive  21.4    6  258.0  110  3.08  3.215  19.44   1   0     3   \n",
       "4  Hornet Sportabout  18.7    8  360.0  175  3.15  3.440  17.02   0   0     3   \n",
       "\n",
       "   carb  \n",
       "0     4  \n",
       "1     4  \n",
       "2     1  \n",
       "3     1  \n",
       "4     2  "
      ]
     },
     "execution_count": 125,
     "metadata": {},
     "output_type": "execute_result"
    }
   ],
   "source": [
    "mtcars = pd.read_csv('data/mtcars.csv')\n",
    "print('결측치 :',mtcars.isna().sum().sum())\n",
    "print('mtcars.shape :',mtcars.shape)\n",
    "mtcars.head()"
   ]
  },
  {
   "cell_type": "code",
   "execution_count": 127,
   "id": "aa8a7f2c",
   "metadata": {},
   "outputs": [
    {
     "data": {
      "text/html": [
       "<div>\n",
       "<style scoped>\n",
       "    .dataframe tbody tr th:only-of-type {\n",
       "        vertical-align: middle;\n",
       "    }\n",
       "\n",
       "    .dataframe tbody tr th {\n",
       "        vertical-align: top;\n",
       "    }\n",
       "\n",
       "    .dataframe thead th {\n",
       "        text-align: right;\n",
       "    }\n",
       "</style>\n",
       "<table border=\"1\" class=\"dataframe\">\n",
       "  <thead>\n",
       "    <tr style=\"text-align: right;\">\n",
       "      <th></th>\n",
       "      <th>cyl</th>\n",
       "      <th>am</th>\n",
       "      <th>mpg</th>\n",
       "    </tr>\n",
       "  </thead>\n",
       "  <tbody>\n",
       "    <tr>\n",
       "      <th>0</th>\n",
       "      <td>6</td>\n",
       "      <td>1</td>\n",
       "      <td>21.0</td>\n",
       "    </tr>\n",
       "    <tr>\n",
       "      <th>1</th>\n",
       "      <td>6</td>\n",
       "      <td>1</td>\n",
       "      <td>21.0</td>\n",
       "    </tr>\n",
       "    <tr>\n",
       "      <th>2</th>\n",
       "      <td>4</td>\n",
       "      <td>1</td>\n",
       "      <td>22.8</td>\n",
       "    </tr>\n",
       "    <tr>\n",
       "      <th>3</th>\n",
       "      <td>6</td>\n",
       "      <td>0</td>\n",
       "      <td>21.4</td>\n",
       "    </tr>\n",
       "    <tr>\n",
       "      <th>4</th>\n",
       "      <td>8</td>\n",
       "      <td>0</td>\n",
       "      <td>18.7</td>\n",
       "    </tr>\n",
       "  </tbody>\n",
       "</table>\n",
       "</div>"
      ],
      "text/plain": [
       "   cyl  am   mpg\n",
       "0    6   1  21.0\n",
       "1    6   1  21.0\n",
       "2    4   1  22.8\n",
       "3    6   0  21.4\n",
       "4    8   0  18.7"
      ]
     },
     "execution_count": 127,
     "metadata": {},
     "output_type": "execute_result"
    }
   ],
   "source": [
    "df_2way = mtcars[['cyl','am','mpg']]\n",
    "df_2way.head()"
   ]
  },
  {
   "cell_type": "code",
   "execution_count": 128,
   "id": "93a33df6",
   "metadata": {},
   "outputs": [
    {
     "data": {
      "text/plain": [
       "ShapiroResult(statistic=0.9475650191307068, pvalue=0.12288373708724976)"
      ]
     },
     "execution_count": 128,
     "metadata": {},
     "output_type": "execute_result"
    }
   ],
   "source": [
    "# 정상성 검정\n",
    "stats.shapiro(df_2way['mpg'])"
   ]
  },
  {
   "cell_type": "code",
   "execution_count": null,
   "id": "a0a9c0a2",
   "metadata": {},
   "outputs": [],
   "source": [
    "# 등분산성 검정\n",
    "# 범주형 변수 조합의 경우의 수가 너무 많을 경우 생략."
   ]
  },
  {
   "cell_type": "markdown",
   "id": "ae13bf52",
   "metadata": {},
   "source": [
    "### 교호작용효과 검정 및 분산분석표 생성"
   ]
  },
  {
   "cell_type": "code",
   "execution_count": 131,
   "id": "05659940",
   "metadata": {},
   "outputs": [
    {
     "name": "stdout",
     "output_type": "stream",
     "text": [
      "              sum_sq    df          F        PR(>F)\n",
      "cyl       449.534479   1.0  52.028866  7.503337e-08\n",
      "am         36.972115   1.0   4.279132  4.792997e-02\n",
      "cyl:am     29.439389   1.0   3.407298  7.550690e-02\n",
      "Residual  241.922732  28.0        NaN           NaN\n"
     ]
    }
   ],
   "source": [
    "reg = smf.ols(formula = 'mpg ~ cyl*am', data = df_2way)\n",
    "reg_fit = reg.fit()\n",
    "\n",
    "anova_table = sm.stats.anova_lm(reg_fit, typ=2)\n",
    "print(anova_table)\n",
    "# cyl에 따라 mpg의 값에 차이가 발생한다.\n",
    "# am에 따라 mpg의 값에 차이가 발생한다.\n",
    "# cyl과 am은 서로 상호작용이 존재하지 않는다."
   ]
  },
  {
   "cell_type": "code",
   "execution_count": 134,
   "id": "6b6f929a",
   "metadata": {},
   "outputs": [
    {
     "data": {
      "text/html": [
       "<div>\n",
       "<style scoped>\n",
       "    .dataframe tbody tr th:only-of-type {\n",
       "        vertical-align: middle;\n",
       "    }\n",
       "\n",
       "    .dataframe tbody tr th {\n",
       "        vertical-align: top;\n",
       "    }\n",
       "\n",
       "    .dataframe thead th {\n",
       "        text-align: right;\n",
       "    }\n",
       "</style>\n",
       "<table border=\"1\" class=\"dataframe\">\n",
       "  <thead>\n",
       "    <tr style=\"text-align: right;\">\n",
       "      <th></th>\n",
       "      <th>cyl</th>\n",
       "      <th>am</th>\n",
       "    </tr>\n",
       "  </thead>\n",
       "  <tbody>\n",
       "    <tr>\n",
       "      <th>cyl</th>\n",
       "      <td>1.000000</td>\n",
       "      <td>-0.522607</td>\n",
       "    </tr>\n",
       "    <tr>\n",
       "      <th>am</th>\n",
       "      <td>-0.522607</td>\n",
       "      <td>1.000000</td>\n",
       "    </tr>\n",
       "  </tbody>\n",
       "</table>\n",
       "</div>"
      ],
      "text/plain": [
       "          cyl        am\n",
       "cyl  1.000000 -0.522607\n",
       "am  -0.522607  1.000000"
      ]
     },
     "execution_count": 134,
     "metadata": {},
     "output_type": "execute_result"
    }
   ],
   "source": [
    "df_2way[['cyl','am']].corr()"
   ]
  },
  {
   "cell_type": "code",
   "execution_count": null,
   "id": "9b33953e",
   "metadata": {},
   "outputs": [],
   "source": []
  }
 ],
 "metadata": {
  "kernelspec": {
   "display_name": "Python 3",
   "language": "python",
   "name": "python3"
  },
  "language_info": {
   "codemirror_mode": {
    "name": "ipython",
    "version": 3
   },
   "file_extension": ".py",
   "mimetype": "text/x-python",
   "name": "python",
   "nbconvert_exporter": "python",
   "pygments_lexer": "ipython3",
   "version": "3.8.8"
  }
 },
 "nbformat": 4,
 "nbformat_minor": 5
}
