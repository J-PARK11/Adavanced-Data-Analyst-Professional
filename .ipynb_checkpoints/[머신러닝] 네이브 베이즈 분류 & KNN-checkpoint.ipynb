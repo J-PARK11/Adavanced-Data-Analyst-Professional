{
 "cells": [
  {
   "cell_type": "markdown",
   "id": "6dea383f",
   "metadata": {},
   "source": [
    "# 네이브 베이즈 분류 & KNN"
   ]
  },
  {
   "cell_type": "code",
   "execution_count": 14,
   "id": "b8e813f4",
   "metadata": {},
   "outputs": [],
   "source": [
    "import pandas as pd\n",
    "import numpy as np\n",
    "import matplotlib as mpl\n",
    "import  matplotlib.pyplot as plt\n",
    "import seaborn as sns\n",
    "\n",
    "mpl.rcParams['font.family'] = 'Malgun Gothic'\n",
    "mpl.rcParams['axes.unicode_minus'] = False\n",
    "plt.style.use(\"ggplot\")\n",
    "from IPython.display import set_matplotlib_formats\n",
    "set_matplotlib_formats(\"retina\")\n",
    "sns.set_theme(style=\"whitegrid\")\n",
    "\n",
    "import warnings\n",
    "warnings.filterwarnings(\"ignore\")\n",
    "\n",
    "from sklearn.datasets import load_iris,load_breast_cancer, load_boston\n",
    "from sklearn.preprocessing import StandardScaler, MinMaxScaler, LabelEncoder, OneHotEncoder, PolynomialFeatures\n",
    "from sklearn.model_selection import train_test_split, cross_val_score, GridSearchCV, RandomizedSearchCV\n",
    "from sklearn.naive_bayes import GaussianNB, MultinomialNB\n",
    "from sklearn.neighbors import KNeighborsClassifier\n",
    "from sklearn.metrics import confusion_matrix, precision_score, recall_score, accuracy_score, f1_score, r2_score\n",
    "from sklearn.metrics import precision_recall_curve, roc_auc_score, roc_curve, mean_absolute_error, mean_squared_error\n",
    "from sklearn.pipeline import Pipeline"
   ]
  },
  {
   "cell_type": "code",
   "execution_count": 6,
   "id": "639cbea0",
   "metadata": {},
   "outputs": [],
   "source": [
    "# 여러 분류 지표 출력\n",
    "def get_clf_eval(y_test,pred):\n",
    "    cf = confusion_matrix(y_test,pred)\n",
    "    acc = accuracy_score(y_test,pred)\n",
    "    pre = precision_score(y_test,pred)\n",
    "    rec = recall_score(y_test,pred)\n",
    "    f1 = f1_score(y_test,pred)\n",
    "    \n",
    "    print(cf)\n",
    "    print('정확도 :{0:.4f}, 정밀도 :{1:.4f}, 재현율 :{2:.4f}, F1 :{3:.4f}'.format(acc,pre,rec,f1))\n",
    "#     return [acc, pre, rec, f1]\n",
    "\n",
    "# 다중 분류 지표 출력\n",
    "def get_multiclf_eval(y_test,pred):\n",
    "    cf = confusion_matrix(y_test,pred)\n",
    "    acc = accuracy_score(y_test,pred)\n",
    "    pre = precision_score(y_test,pred, average='micro')\n",
    "    rec = recall_score(y_test,pred, average='macro')\n",
    "    f1 = f1_score(y_test,pred, average='weighted')\n",
    "    \n",
    "    print(cf)\n",
    "    print('정확도 :{0:.4f}, 정밀도 :{1:.4f}, 재현율 :{2:.4f}, F1 :{3:.4f}'.format(acc,pre,rec,f1))\n",
    "#   return [acc, pre, rec, f1]\n",
    "\n",
    "# roc curve\n",
    "def roc_curve_plot(y_test, pred_proba):\n",
    "    fprs, tprs, thresholds = roc_curve(y_test, pred_proba)\n",
    "    \n",
    "    plt.figure(figsize=(8,6))\n",
    "    plt.plot(fprs, tprs, label='ROC')\n",
    "    plt.plot([0,1],[0,1],linestyle='--', color='k', label='Random')\n",
    "    \n",
    "    start, end = plt.xlim()\n",
    "    plt.xticks(np.round(np.arange(start,end,0.1),2))\n",
    "    plt.xlim(0,1)\n",
    "    plt.ylim(0,1)\n",
    "    plt.xlabel('FPR(1 - Sensitivity)')\n",
    "    plt.ylabel('TPR(Recall)')\n",
    "    plt.legend()\n",
    "    plt.show()"
   ]
  },
  {
   "cell_type": "markdown",
   "id": "2a26f03d",
   "metadata": {},
   "source": [
    "## 네이브 베이즈 분류(Naive Bayes Classification)"
   ]
  },
  {
   "cell_type": "code",
   "execution_count": 63,
   "id": "7569210e",
   "metadata": {},
   "outputs": [],
   "source": [
    "# iris data load\n",
    "X, y = load_iris(return_X_y=True)\n",
    "\n",
    "scaler = StandardScaler()\n",
    "X_scaled = scaler.fit_transform(X)\n",
    "\n",
    "X_train, X_test, y_train, y_test = train_test_split(X_scaled, y, test_size=0.2, random_state=0)"
   ]
  },
  {
   "cell_type": "code",
   "execution_count": 64,
   "id": "ebb75c3c",
   "metadata": {},
   "outputs": [],
   "source": [
    "# 가우시안 NB\n",
    "gnb = GaussianNB()\n",
    "y_pred = gnb.fit(X_train, y_train).predict(X_test)"
   ]
  },
  {
   "cell_type": "code",
   "execution_count": 65,
   "id": "e6adf8b1",
   "metadata": {},
   "outputs": [
    {
     "name": "stdout",
     "output_type": "stream",
     "text": [
      "클래스별 사전 확률 : [0.32 0.31 0.37]\n"
     ]
    }
   ],
   "source": [
    "print('클래스별 사전 확률 :',np.round(gnb.class_prior_,2))"
   ]
  },
  {
   "cell_type": "code",
   "execution_count": 66,
   "id": "35e37466",
   "metadata": {},
   "outputs": [
    {
     "name": "stdout",
     "output_type": "stream",
     "text": [
      "[[11  0  0]\n",
      " [ 0 13  0]\n",
      " [ 0  1  5]]\n",
      "정확도 :0.9667, 정밀도 :0.9667, 재현율 :0.9444, F1 :0.9658\n"
     ]
    }
   ],
   "source": [
    "# 성능 평가\n",
    "get_multiclf_eval(y_test,y_pred)"
   ]
  },
  {
   "cell_type": "markdown",
   "id": "faa79950",
   "metadata": {},
   "source": [
    "## KNN(KNearestNeighbors)"
   ]
  },
  {
   "cell_type": "code",
   "execution_count": 67,
   "id": "2a69ba8b",
   "metadata": {},
   "outputs": [],
   "source": [
    "# iris data load\n",
    "X, y = load_iris(return_X_y=True)\n",
    "\n",
    "scaler = StandardScaler()\n",
    "X_scaled = scaler.fit_transform(X)\n",
    "\n",
    "X_train, X_test, y_train, y_test = train_test_split(X_scaled, y, test_size=0.2, random_state=0)"
   ]
  },
  {
   "cell_type": "code",
   "execution_count": 75,
   "id": "79a90cca",
   "metadata": {},
   "outputs": [
    {
     "data": {
      "text/plain": [
       "GridSearchCV(cv=3, estimator=KNeighborsClassifier(),\n",
       "             param_grid={'n_neighbors': [3, 5, 7, 9, 12, 15],\n",
       "                         'weights': ['uniform', 'distance']},\n",
       "             scoring='accuracy')"
      ]
     },
     "execution_count": 75,
     "metadata": {},
     "output_type": "execute_result"
    }
   ],
   "source": [
    "param_grid = {\n",
    "    'n_neighbors':[3,5,7,9,12,15],\n",
    "    'weights':['uniform','distance']\n",
    "}\n",
    "\n",
    "knn = KNeighborsClassifier()\n",
    "grid_cv = GridSearchCV(knn, refit=True, cv=3, scoring='accuracy', param_grid=param_grid)\n",
    "grid_cv.fit(X_train,y_train)"
   ]
  },
  {
   "cell_type": "code",
   "execution_count": 76,
   "id": "68085860",
   "metadata": {},
   "outputs": [
    {
     "name": "stdout",
     "output_type": "stream",
     "text": [
      "grid_cv.best_params_ : {'n_neighbors': 9, 'weights': 'uniform'}\n",
      "grid_cv.best_score_ : 0.9499999999999998\n"
     ]
    }
   ],
   "source": [
    "print('grid_cv.best_params_ :',grid_cv.best_params_)\n",
    "print('grid_cv.best_score_ :',grid_cv.best_score_)"
   ]
  },
  {
   "cell_type": "code",
   "execution_count": 80,
   "id": "06a572c1",
   "metadata": {},
   "outputs": [
    {
     "name": "stdout",
     "output_type": "stream",
     "text": [
      "[[11  0  0]\n",
      " [ 0 13  0]\n",
      " [ 0  0  6]]\n",
      "정확도 :1.0000, 정밀도 :1.0000, 재현율 :1.0000, F1 :1.0000\n"
     ]
    }
   ],
   "source": [
    "best = grid_cv.best_estimator_\n",
    "pred = best.predict(X_test)\n",
    "get_multiclf_eval(y_test,pred)"
   ]
  }
 ],
 "metadata": {
  "kernelspec": {
   "display_name": "Python 3",
   "language": "python",
   "name": "python3"
  },
  "language_info": {
   "codemirror_mode": {
    "name": "ipython",
    "version": 3
   },
   "file_extension": ".py",
   "mimetype": "text/x-python",
   "name": "python",
   "nbconvert_exporter": "python",
   "pygments_lexer": "ipython3",
   "version": "3.8.8"
  }
 },
 "nbformat": 4,
 "nbformat_minor": 5
}
