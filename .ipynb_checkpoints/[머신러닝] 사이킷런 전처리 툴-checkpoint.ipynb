{
 "cells": [
  {
   "cell_type": "markdown",
   "id": "6dea383f",
   "metadata": {},
   "source": [
    "# Sckit-Learn Preprocessing Tool"
   ]
  },
  {
   "cell_type": "code",
   "execution_count": 2,
   "id": "b8e813f4",
   "metadata": {},
   "outputs": [],
   "source": [
    "import pandas as pd\n",
    "import numpy as np\n",
    "import matplotlib as mpl\n",
    "import  matplotlib.pyplot as plt\n",
    "import seaborn as sns\n",
    "\n",
    "mpl.rcParams['font.family'] = 'Malgun Gothic'\n",
    "mpl.rcParams['axes.unicode_minus'] = False\n",
    "plt.style.use(\"ggplot\")\n",
    "from IPython.display import set_matplotlib_formats\n",
    "set_matplotlib_formats(\"retina\")\n",
    "sns.set_theme(style=\"whitegrid\")\n",
    "\n",
    "import warnings\n",
    "warnings.filterwarnings(\"ignore\")\n",
    "\n",
    "from sklearn.datasets import load_iris\n",
    "from sklearn.preprocessing import StandardScaler, MinMaxScaler, LabelEncoder, OneHotEncoder\n",
    "from sklearn.model_selection import train_test_split, cross_val_score, GridSearchCV, RandomizedSearchCV\n",
    "from sklearn.tree import DecisionTreeClassifier\n",
    "from sklearn.metrics import confusion_matrix, precision_score, recall_score, accuracy_score, f1_score\n",
    "from sklearn.metrics import precision_recall_curve, roc_auc_score, roc_curve, plot_roc_curve"
   ]
  },
  {
   "cell_type": "code",
   "execution_count": 2,
   "id": "6bf38529",
   "metadata": {},
   "outputs": [
    {
     "name": "stdout",
     "output_type": "stream",
     "text": [
      "iris_df.shape : (150, 4)\n"
     ]
    },
    {
     "data": {
      "text/html": [
       "<div>\n",
       "<style scoped>\n",
       "    .dataframe tbody tr th:only-of-type {\n",
       "        vertical-align: middle;\n",
       "    }\n",
       "\n",
       "    .dataframe tbody tr th {\n",
       "        vertical-align: top;\n",
       "    }\n",
       "\n",
       "    .dataframe thead th {\n",
       "        text-align: right;\n",
       "    }\n",
       "</style>\n",
       "<table border=\"1\" class=\"dataframe\">\n",
       "  <thead>\n",
       "    <tr style=\"text-align: right;\">\n",
       "      <th></th>\n",
       "      <th>sepal length</th>\n",
       "      <th>sepal width</th>\n",
       "      <th>petal length</th>\n",
       "      <th>petal width</th>\n",
       "    </tr>\n",
       "  </thead>\n",
       "  <tbody>\n",
       "    <tr>\n",
       "      <th>0</th>\n",
       "      <td>5.1</td>\n",
       "      <td>3.5</td>\n",
       "      <td>1.4</td>\n",
       "      <td>0.2</td>\n",
       "    </tr>\n",
       "    <tr>\n",
       "      <th>1</th>\n",
       "      <td>4.9</td>\n",
       "      <td>3.0</td>\n",
       "      <td>1.4</td>\n",
       "      <td>0.2</td>\n",
       "    </tr>\n",
       "    <tr>\n",
       "      <th>2</th>\n",
       "      <td>4.7</td>\n",
       "      <td>3.2</td>\n",
       "      <td>1.3</td>\n",
       "      <td>0.2</td>\n",
       "    </tr>\n",
       "    <tr>\n",
       "      <th>3</th>\n",
       "      <td>4.6</td>\n",
       "      <td>3.1</td>\n",
       "      <td>1.5</td>\n",
       "      <td>0.2</td>\n",
       "    </tr>\n",
       "    <tr>\n",
       "      <th>4</th>\n",
       "      <td>5.0</td>\n",
       "      <td>3.6</td>\n",
       "      <td>1.4</td>\n",
       "      <td>0.2</td>\n",
       "    </tr>\n",
       "  </tbody>\n",
       "</table>\n",
       "</div>"
      ],
      "text/plain": [
       "   sepal length  sepal width  petal length  petal width\n",
       "0           5.1          3.5           1.4          0.2\n",
       "1           4.9          3.0           1.4          0.2\n",
       "2           4.7          3.2           1.3          0.2\n",
       "3           4.6          3.1           1.5          0.2\n",
       "4           5.0          3.6           1.4          0.2"
      ]
     },
     "execution_count": 2,
     "metadata": {},
     "output_type": "execute_result"
    }
   ],
   "source": [
    "iris= load_iris()\n",
    "iris_df = pd.DataFrame(iris.data, columns=[word[:12].strip() for word in iris.feature_names])\n",
    "print('iris_df.shape :',iris_df.shape)\n",
    "iris_df.head()"
   ]
  },
  {
   "cell_type": "markdown",
   "id": "523ccee6",
   "metadata": {},
   "source": [
    "## 1. sklearn.model_selection"
   ]
  },
  {
   "cell_type": "markdown",
   "id": "73c5fe17",
   "metadata": {},
   "source": [
    "### train_test_split"
   ]
  },
  {
   "cell_type": "code",
   "execution_count": 3,
   "id": "fa6f3a7b",
   "metadata": {},
   "outputs": [
    {
     "name": "stdout",
     "output_type": "stream",
     "text": [
      "X_train.shape (120, 4)\n",
      "y_train.shape (120,)\n",
      "X_test.shape (30, 4)\n",
      "y_test.shape (30,)\n"
     ]
    }
   ],
   "source": [
    "X_train, X_test, y_train, y_test = train_test_split(iris_df.to_numpy(), iris.target, stratify = iris.target,\n",
    "                                                    test_size=0.2, shuffle=True, random_state=42)\n",
    "print('X_train.shape',X_train.shape)\n",
    "print('y_train.shape',y_train.shape)\n",
    "print('X_test.shape',X_test.shape)\n",
    "print('y_test.shape',y_test.shape)"
   ]
  },
  {
   "cell_type": "markdown",
   "id": "96ae10e1",
   "metadata": {},
   "source": [
    "### cross_val_score"
   ]
  },
  {
   "cell_type": "code",
   "execution_count": 4,
   "id": "abbda1c6",
   "metadata": {},
   "outputs": [
    {
     "name": "stdout",
     "output_type": "stream",
     "text": [
      "교차검증 cv=5 정확도 : [0.9167 0.9583 0.9583 0.9583 0.9167]\n",
      "교차검증 cv=5 평균정확도 : 0.9417\n"
     ]
    }
   ],
   "source": [
    "dt_clf = DecisionTreeClassifier()\n",
    "\n",
    "scores = cross_val_score(dt_clf, X_train, y_train, cv=5, scoring='accuracy')\n",
    "print('교차검증 cv=5 정확도 :',np.round(scores,4))\n",
    "print('교차검증 cv=5 평균정확도 :',np.round(np.mean(scores),4))"
   ]
  },
  {
   "cell_type": "markdown",
   "id": "086f525d",
   "metadata": {},
   "source": [
    "### GridSearchCV"
   ]
  },
  {
   "cell_type": "code",
   "execution_count": 5,
   "id": "ce6b7828",
   "metadata": {},
   "outputs": [
    {
     "data": {
      "text/plain": [
       "GridSearchCV(cv=3, estimator=DecisionTreeClassifier(),\n",
       "             param_grid={'max_depth': [1, 2, 3], 'min_samples_leaf': [2, 3]})"
      ]
     },
     "execution_count": 5,
     "metadata": {},
     "output_type": "execute_result"
    }
   ],
   "source": [
    "params = {'max_depth':[1,2,3],\n",
    "          'min_samples_leaf':[2,3]}\n",
    "\n",
    "dt_clf = DecisionTreeClassifier()\n",
    "grid_dtree = GridSearchCV(dt_clf, param_grid=params, cv=3, refit=True)\n",
    "grid_dtree.fit(X_train, y_train)"
   ]
  },
  {
   "cell_type": "code",
   "execution_count": 6,
   "id": "34c34456",
   "metadata": {},
   "outputs": [
    {
     "data": {
      "text/html": [
       "<div>\n",
       "<style scoped>\n",
       "    .dataframe tbody tr th:only-of-type {\n",
       "        vertical-align: middle;\n",
       "    }\n",
       "\n",
       "    .dataframe tbody tr th {\n",
       "        vertical-align: top;\n",
       "    }\n",
       "\n",
       "    .dataframe thead th {\n",
       "        text-align: right;\n",
       "    }\n",
       "</style>\n",
       "<table border=\"1\" class=\"dataframe\">\n",
       "  <thead>\n",
       "    <tr style=\"text-align: right;\">\n",
       "      <th></th>\n",
       "      <th>params</th>\n",
       "      <th>mean_test_score</th>\n",
       "      <th>rank_test_score</th>\n",
       "      <th>split0_test_score</th>\n",
       "    </tr>\n",
       "  </thead>\n",
       "  <tbody>\n",
       "    <tr>\n",
       "      <th>4</th>\n",
       "      <td>{'max_depth': 3, 'min_samples_leaf': 2}</td>\n",
       "      <td>0.958333</td>\n",
       "      <td>1</td>\n",
       "      <td>0.950</td>\n",
       "    </tr>\n",
       "    <tr>\n",
       "      <th>5</th>\n",
       "      <td>{'max_depth': 3, 'min_samples_leaf': 3}</td>\n",
       "      <td>0.958333</td>\n",
       "      <td>1</td>\n",
       "      <td>0.950</td>\n",
       "    </tr>\n",
       "    <tr>\n",
       "      <th>2</th>\n",
       "      <td>{'max_depth': 2, 'min_samples_leaf': 2}</td>\n",
       "      <td>0.933333</td>\n",
       "      <td>3</td>\n",
       "      <td>0.925</td>\n",
       "    </tr>\n",
       "    <tr>\n",
       "      <th>3</th>\n",
       "      <td>{'max_depth': 2, 'min_samples_leaf': 3}</td>\n",
       "      <td>0.933333</td>\n",
       "      <td>3</td>\n",
       "      <td>0.925</td>\n",
       "    </tr>\n",
       "    <tr>\n",
       "      <th>0</th>\n",
       "      <td>{'max_depth': 1, 'min_samples_leaf': 2}</td>\n",
       "      <td>0.658333</td>\n",
       "      <td>5</td>\n",
       "      <td>0.675</td>\n",
       "    </tr>\n",
       "  </tbody>\n",
       "</table>\n",
       "</div>"
      ],
      "text/plain": [
       "                                    params  mean_test_score  rank_test_score  \\\n",
       "4  {'max_depth': 3, 'min_samples_leaf': 2}         0.958333                1   \n",
       "5  {'max_depth': 3, 'min_samples_leaf': 3}         0.958333                1   \n",
       "2  {'max_depth': 2, 'min_samples_leaf': 2}         0.933333                3   \n",
       "3  {'max_depth': 2, 'min_samples_leaf': 3}         0.933333                3   \n",
       "0  {'max_depth': 1, 'min_samples_leaf': 2}         0.658333                5   \n",
       "\n",
       "   split0_test_score  \n",
       "4              0.950  \n",
       "5              0.950  \n",
       "2              0.925  \n",
       "3              0.925  \n",
       "0              0.675  "
      ]
     },
     "execution_count": 6,
     "metadata": {},
     "output_type": "execute_result"
    }
   ],
   "source": [
    "score_df = pd.DataFrame(grid_dtree.cv_results_)\n",
    "score_df[['params','mean_test_score','rank_test_score','split0_test_score']].sort_values('rank_test_score').head()"
   ]
  },
  {
   "cell_type": "code",
   "execution_count": 7,
   "id": "592390c3",
   "metadata": {},
   "outputs": [
    {
     "name": "stdout",
     "output_type": "stream",
     "text": [
      "GridSearchCV 최적 파라미터 : {'max_depth': 3, 'min_samples_leaf': 2}\n",
      "GridSearchCV 최고 정확도 : 0.9583\n"
     ]
    }
   ],
   "source": [
    "print('GridSearchCV 최적 파라미터 :', grid_dtree.best_params_)\n",
    "print('GridSearchCV 최고 정확도 : {0:.4f}'.format(grid_dtree.best_score_))"
   ]
  },
  {
   "cell_type": "code",
   "execution_count": 8,
   "id": "9436c577",
   "metadata": {},
   "outputs": [
    {
     "name": "stdout",
     "output_type": "stream",
     "text": [
      "Test Data ACC : 0.9667\n"
     ]
    }
   ],
   "source": [
    "best_est = grid_dtree.best_estimator_\n",
    "pred = best_est.predict(X_test)\n",
    "print('Test Data ACC : {0:.4f}'.format(accuracy_score(y_test,pred)))"
   ]
  },
  {
   "cell_type": "markdown",
   "id": "8c4c9c48",
   "metadata": {},
   "source": [
    "### RandomizedSearchCV"
   ]
  },
  {
   "cell_type": "code",
   "execution_count": 9,
   "id": "3e4e4fcd",
   "metadata": {},
   "outputs": [
    {
     "name": "stdout",
     "output_type": "stream",
     "text": [
      "[5 3 4 6 3 3 6 4 6 3]\n",
      "[0.44283958 0.61195947 0.67204879 0.33028084 0.62135833]\n"
     ]
    }
   ],
   "source": [
    "max_depth_list = np.random.randint(2, 7, 10)\n",
    "max_features_list = np.random.uniform(0.3, 0.7, 5)\n",
    "print(max_depth_list)\n",
    "print(max_features_list)"
   ]
  },
  {
   "cell_type": "code",
   "execution_count": 10,
   "id": "fef1472c",
   "metadata": {},
   "outputs": [
    {
     "name": "stdout",
     "output_type": "stream",
     "text": [
      "Fitting 3 folds for each of 5 candidates, totalling 15 fits\n"
     ]
    },
    {
     "data": {
      "text/plain": [
       "RandomizedSearchCV(cv=3, estimator=DecisionTreeClassifier(), n_iter=5,\n",
       "                   n_jobs=-1,\n",
       "                   param_distributions={'max_depth': array([5, 3, 4, 6, 3, 3, 6, 4, 6, 3]),\n",
       "                                        'max_features': array([0.44283958, 0.61195947, 0.67204879, 0.33028084, 0.62135833])},\n",
       "                   random_state=42, verbose=2)"
      ]
     },
     "execution_count": 10,
     "metadata": {},
     "output_type": "execute_result"
    }
   ],
   "source": [
    "model = DecisionTreeClassifier()\n",
    "\n",
    "param_distributions = {'max_depth':max_depth_list, 'max_features':max_features_list}\n",
    "clf = RandomizedSearchCV(model, param_distributions, n_iter=5, cv=3, n_jobs=-1, verbose=2, random_state=42)\n",
    "clf.fit(X_train,y_train)"
   ]
  },
  {
   "cell_type": "code",
   "execution_count": 23,
   "id": "fdc6ac26",
   "metadata": {},
   "outputs": [
    {
     "data": {
      "text/html": [
       "<div>\n",
       "<style scoped>\n",
       "    .dataframe tbody tr th:only-of-type {\n",
       "        vertical-align: middle;\n",
       "    }\n",
       "\n",
       "    .dataframe tbody tr th {\n",
       "        vertical-align: top;\n",
       "    }\n",
       "\n",
       "    .dataframe thead th {\n",
       "        text-align: right;\n",
       "    }\n",
       "</style>\n",
       "<table border=\"1\" class=\"dataframe\">\n",
       "  <thead>\n",
       "    <tr style=\"text-align: right;\">\n",
       "      <th></th>\n",
       "      <th>params</th>\n",
       "      <th>mean_test_score</th>\n",
       "      <th>rank_test_score</th>\n",
       "      <th>split0_test_score</th>\n",
       "    </tr>\n",
       "  </thead>\n",
       "  <tbody>\n",
       "    <tr>\n",
       "      <th>1</th>\n",
       "      <td>{'max_features': 0.6213583344029014, 'max_dept...</td>\n",
       "      <td>0.966667</td>\n",
       "      <td>1</td>\n",
       "      <td>0.950</td>\n",
       "    </tr>\n",
       "    <tr>\n",
       "      <th>3</th>\n",
       "      <td>{'max_features': 0.44283958199354445, 'max_dep...</td>\n",
       "      <td>0.941667</td>\n",
       "      <td>2</td>\n",
       "      <td>0.950</td>\n",
       "    </tr>\n",
       "    <tr>\n",
       "      <th>4</th>\n",
       "      <td>{'max_features': 0.6720487871675738, 'max_dept...</td>\n",
       "      <td>0.925000</td>\n",
       "      <td>3</td>\n",
       "      <td>0.925</td>\n",
       "    </tr>\n",
       "    <tr>\n",
       "      <th>2</th>\n",
       "      <td>{'max_features': 0.44283958199354445, 'max_dep...</td>\n",
       "      <td>0.916667</td>\n",
       "      <td>4</td>\n",
       "      <td>0.925</td>\n",
       "    </tr>\n",
       "    <tr>\n",
       "      <th>0</th>\n",
       "      <td>{'max_features': 0.3302808376959592, 'max_dept...</td>\n",
       "      <td>0.883333</td>\n",
       "      <td>5</td>\n",
       "      <td>0.925</td>\n",
       "    </tr>\n",
       "  </tbody>\n",
       "</table>\n",
       "</div>"
      ],
      "text/plain": [
       "                                              params  mean_test_score  \\\n",
       "1  {'max_features': 0.6213583344029014, 'max_dept...         0.966667   \n",
       "3  {'max_features': 0.44283958199354445, 'max_dep...         0.941667   \n",
       "4  {'max_features': 0.6720487871675738, 'max_dept...         0.925000   \n",
       "2  {'max_features': 0.44283958199354445, 'max_dep...         0.916667   \n",
       "0  {'max_features': 0.3302808376959592, 'max_dept...         0.883333   \n",
       "\n",
       "   rank_test_score  split0_test_score  \n",
       "1                1              0.950  \n",
       "3                2              0.950  \n",
       "4                3              0.925  \n",
       "2                4              0.925  \n",
       "0                5              0.925  "
      ]
     },
     "execution_count": 23,
     "metadata": {},
     "output_type": "execute_result"
    }
   ],
   "source": [
    "score_df = pd.DataFrame(clf.cv_results_)\n",
    "score_df[['params','mean_test_score','rank_test_score','split0_test_score']].sort_values('rank_test_score').head()"
   ]
  },
  {
   "cell_type": "code",
   "execution_count": 12,
   "id": "107fc135",
   "metadata": {},
   "outputs": [
    {
     "name": "stdout",
     "output_type": "stream",
     "text": [
      "RandomizedSearchCV 최적 파라미터 : {'max_features': 0.6213583344029014, 'max_depth': 4}\n",
      "RandomizedSearchCV 최고 정확도 : 0.9667\n"
     ]
    }
   ],
   "source": [
    "print('RandomizedSearchCV 최적 파라미터 :', clf.best_params_)\n",
    "print('RandomizedSearchCV 최고 정확도 : {0:.4f}'.format(clf.best_score_))"
   ]
  },
  {
   "cell_type": "code",
   "execution_count": 13,
   "id": "8084018b",
   "metadata": {},
   "outputs": [
    {
     "name": "stdout",
     "output_type": "stream",
     "text": [
      "Test Data ACC : 0.9667\n"
     ]
    }
   ],
   "source": [
    "best_est = clf.best_estimator_\n",
    "pred = best_est.predict(X_test)\n",
    "print('Test Data ACC : {0:.4f}'.format(accuracy_score(y_test,pred)))"
   ]
  },
  {
   "cell_type": "markdown",
   "id": "72e18bcb",
   "metadata": {},
   "source": [
    "## 2. sklearn.preprocessing"
   ]
  },
  {
   "cell_type": "markdown",
   "id": "19496945",
   "metadata": {},
   "source": [
    "### LabelEncoder"
   ]
  },
  {
   "cell_type": "code",
   "execution_count": 14,
   "id": "ab3e1033",
   "metadata": {},
   "outputs": [],
   "source": [
    "item = ['TV','냉장고','전자레인지','컴퓨터','선풍기','선풍기','믹서','믹서']"
   ]
  },
  {
   "cell_type": "code",
   "execution_count": 15,
   "id": "b7498a48",
   "metadata": {},
   "outputs": [
    {
     "name": "stdout",
     "output_type": "stream",
     "text": [
      "['TV' '냉장고' '믹서' '선풍기' '전자레인지' '컴퓨터']\n",
      "[0 1 4 5 3 3 2 2]\n"
     ]
    }
   ],
   "source": [
    "l_encoder = LabelEncoder()\n",
    "l_encoder.fit(item)\n",
    "labels = l_encoder.transform(item)\n",
    "\n",
    "print(l_encoder.classes_)\n",
    "print(labels)"
   ]
  },
  {
   "cell_type": "code",
   "execution_count": 16,
   "id": "f98ac2db",
   "metadata": {},
   "outputs": [
    {
     "data": {
      "text/plain": [
       "array(['TV', '냉장고', '전자레인지', '컴퓨터', '선풍기', '선풍기', '믹서', '믹서'], dtype='<U5')"
      ]
     },
     "execution_count": 16,
     "metadata": {},
     "output_type": "execute_result"
    }
   ],
   "source": [
    "l_encoder.inverse_transform(labels)"
   ]
  },
  {
   "cell_type": "markdown",
   "id": "8b4f4cf2",
   "metadata": {},
   "source": [
    "### OneHotEncoder"
   ]
  },
  {
   "cell_type": "code",
   "execution_count": 17,
   "id": "27875e7b",
   "metadata": {},
   "outputs": [
    {
     "name": "stdout",
     "output_type": "stream",
     "text": [
      "['TV' '냉장고' '믹서' '선풍기' '전자레인지' '컴퓨터']\n",
      "[0 1 4 5 3 3 2 2]\n"
     ]
    },
    {
     "data": {
      "text/plain": [
       "array([[1., 0., 0., 0., 0., 0.],\n",
       "       [0., 1., 0., 0., 0., 0.],\n",
       "       [0., 0., 0., 0., 1., 0.],\n",
       "       [0., 0., 0., 0., 0., 1.],\n",
       "       [0., 0., 0., 1., 0., 0.],\n",
       "       [0., 0., 0., 1., 0., 0.],\n",
       "       [0., 0., 1., 0., 0., 0.],\n",
       "       [0., 0., 1., 0., 0., 0.]])"
      ]
     },
     "execution_count": 17,
     "metadata": {},
     "output_type": "execute_result"
    }
   ],
   "source": [
    "l_encoder = LabelEncoder()\n",
    "labels = l_encoder.fit_transform(item)\n",
    "print(l_encoder.classes_)\n",
    "print(labels)\n",
    "\n",
    "labels_2d = labels.reshape(-1,1)\n",
    "oh_encoder = OneHotEncoder()\n",
    "oh_labels = oh_encoder.fit_transform(labels_2d)\n",
    "oh_labels.toarray()"
   ]
  },
  {
   "cell_type": "code",
   "execution_count": 18,
   "id": "81d9d03f",
   "metadata": {},
   "outputs": [
    {
     "data": {
      "text/plain": [
       "array([[1, 0, 0, 0, 0, 0],\n",
       "       [0, 1, 0, 0, 0, 0],\n",
       "       [0, 0, 0, 0, 1, 0],\n",
       "       [0, 0, 0, 0, 0, 1],\n",
       "       [0, 0, 0, 1, 0, 0],\n",
       "       [0, 0, 0, 1, 0, 0],\n",
       "       [0, 0, 1, 0, 0, 0],\n",
       "       [0, 0, 1, 0, 0, 0]], dtype=uint8)"
      ]
     },
     "execution_count": 18,
     "metadata": {},
     "output_type": "execute_result"
    }
   ],
   "source": [
    "# pd.get_dummies()\n",
    "pd.get_dummies(item).to_numpy()"
   ]
  },
  {
   "cell_type": "markdown",
   "id": "7c2f873e",
   "metadata": {},
   "source": [
    "### StandardScaler"
   ]
  },
  {
   "cell_type": "code",
   "execution_count": 19,
   "id": "9a166868",
   "metadata": {
    "scrolled": true
   },
   "outputs": [
    {
     "data": {
      "text/plain": [
       "array([[-0.90068117,  1.01900435, -1.34022653, -1.3154443 ],\n",
       "       [-1.14301691, -0.13197948, -1.34022653, -1.3154443 ],\n",
       "       [-1.38535265,  0.32841405, -1.39706395, -1.3154443 ],\n",
       "       [-1.50652052,  0.09821729, -1.2833891 , -1.3154443 ]])"
      ]
     },
     "execution_count": 19,
     "metadata": {},
     "output_type": "execute_result"
    }
   ],
   "source": [
    "std_scaler = StandardScaler()\n",
    "iris_scaled = std_scaler.fit_transform(iris.data)\n",
    "iris_scaled[:4]"
   ]
  },
  {
   "cell_type": "markdown",
   "id": "53631825",
   "metadata": {},
   "source": [
    "### MinMaxScaler"
   ]
  },
  {
   "cell_type": "code",
   "execution_count": 20,
   "id": "232347a0",
   "metadata": {},
   "outputs": [
    {
     "data": {
      "text/plain": [
       "array([[0.22222222, 0.625     , 0.06779661, 0.04166667],\n",
       "       [0.16666667, 0.41666667, 0.06779661, 0.04166667],\n",
       "       [0.11111111, 0.5       , 0.05084746, 0.04166667],\n",
       "       [0.08333333, 0.45833333, 0.08474576, 0.04166667]])"
      ]
     },
     "execution_count": 20,
     "metadata": {},
     "output_type": "execute_result"
    }
   ],
   "source": [
    "norm_scaler = MinMaxScaler()\n",
    "iris_normed = norm_scaler.fit_transform(iris.data)\n",
    "iris_normed[:4]"
   ]
  },
  {
   "cell_type": "markdown",
   "id": "1ef7a22a",
   "metadata": {},
   "source": [
    "## 3. sklearn.metrics"
   ]
  },
  {
   "cell_type": "markdown",
   "id": "5b272c4c",
   "metadata": {},
   "source": [
    "### confusion_matrix, accuracy_score, precision_score, recall_score, f1_score"
   ]
  },
  {
   "cell_type": "code",
   "execution_count": 21,
   "id": "36004644",
   "metadata": {},
   "outputs": [],
   "source": [
    "# 여러 분류 지표 출력\n",
    "def get_clf_eval(y_test,pred):\n",
    "    cf = confusion_matrix(y_test,pred)\n",
    "    acc = accuracy_score(y_test,pred)\n",
    "    pre = precision_score(y_test,pred)\n",
    "    rec = recall_score(y_test,pred)\n",
    "    f1 = f1_score(y_test,pred)\n",
    "    \n",
    "    print(cf)\n",
    "    print('정확도 :{0:.4f}, 정밀도 :{1:.4f}, 재현율 :{2:.4f}, F1 :{3:.4f}'.format(acc,pre,rec,f1))\n",
    "#     return [acc, pre, rec, f1]"
   ]
  },
  {
   "cell_type": "markdown",
   "id": "3241ffb4",
   "metadata": {},
   "source": [
    "### precision_recall_curve"
   ]
  },
  {
   "cell_type": "code",
   "execution_count": 22,
   "id": "63defcb8",
   "metadata": {
    "collapsed": true
   },
   "outputs": [
    {
     "ename": "NameError",
     "evalue": "name 'y_pred_proba' is not defined",
     "output_type": "error",
     "traceback": [
      "\u001b[1;31m---------------------------------------------------------------------------\u001b[0m",
      "\u001b[1;31mNameError\u001b[0m                                 Traceback (most recent call last)",
      "\u001b[1;32m<ipython-input-22-261bb33ce30c>\u001b[0m in \u001b[0;36m<module>\u001b[1;34m\u001b[0m\n\u001b[0;32m      2\u001b[0m \u001b[0mpred_proba\u001b[0m \u001b[1;33m=\u001b[0m \u001b[0mclf\u001b[0m\u001b[1;33m.\u001b[0m\u001b[0mpredict_proba\u001b[0m\u001b[1;33m(\u001b[0m\u001b[0mX_test\u001b[0m\u001b[1;33m)\u001b[0m\u001b[1;33m[\u001b[0m\u001b[1;33m:\u001b[0m\u001b[1;33m,\u001b[0m\u001b[1;36m1\u001b[0m\u001b[1;33m]\u001b[0m\u001b[1;33m\u001b[0m\u001b[1;33m\u001b[0m\u001b[0m\n\u001b[0;32m      3\u001b[0m \u001b[1;33m\u001b[0m\u001b[0m\n\u001b[1;32m----> 4\u001b[1;33m \u001b[0mprecisions\u001b[0m\u001b[1;33m,\u001b[0m \u001b[0mrecalls\u001b[0m\u001b[1;33m,\u001b[0m \u001b[0mthresholds\u001b[0m \u001b[1;33m=\u001b[0m \u001b[0mprecision_recall_curve\u001b[0m\u001b[1;33m(\u001b[0m\u001b[0my_test\u001b[0m\u001b[1;33m,\u001b[0m \u001b[0my_pred_proba\u001b[0m\u001b[1;33m)\u001b[0m\u001b[1;33m\u001b[0m\u001b[1;33m\u001b[0m\u001b[0m\n\u001b[0m\u001b[0;32m      5\u001b[0m \u001b[1;33m\u001b[0m\u001b[0m\n\u001b[0;32m      6\u001b[0m \u001b[0mthr_idx\u001b[0m \u001b[1;33m=\u001b[0m \u001b[0mnp\u001b[0m\u001b[1;33m.\u001b[0m\u001b[0marange\u001b[0m\u001b[1;33m(\u001b[0m\u001b[1;36m0\u001b[0m\u001b[1;33m,\u001b[0m\u001b[0mthresholds\u001b[0m\u001b[1;33m[\u001b[0m\u001b[1;36m0\u001b[0m\u001b[1;33m]\u001b[0m\u001b[1;33m,\u001b[0m\u001b[1;36m15\u001b[0m\u001b[1;33m)\u001b[0m\u001b[1;33m\u001b[0m\u001b[1;33m\u001b[0m\u001b[0m\n",
      "\u001b[1;31mNameError\u001b[0m: name 'y_pred_proba' is not defined"
     ]
    }
   ],
   "source": [
    "# 레이블 값이 1일 떄의 예측확률을 추출\n",
    "pred_proba = clf.predict_proba(X_test)[:,1]\n",
    "\n",
    "precisions, recalls, thresholds = precision_recall_curve(y_test, y_pred_proba)\n",
    "\n",
    "thr_idx = np.arange(0,thresholds[0],15)\n",
    "print('threshold :',np.round(thresholds[thr_idx],2))\n",
    "print('precision :',np.round(precisions[thr_idx],3))\n",
    "print('recall :',np.round(recalls[thr_idx],3))"
   ]
  },
  {
   "cell_type": "code",
   "execution_count": null,
   "id": "230f2d28",
   "metadata": {},
   "outputs": [],
   "source": [
    "def precision_recall_curve_plot(y_test,pred_proba):\n",
    "    precisions, recalls, thresholds = precision_recall_curve(y_test, pred_proba)\n",
    "    \n",
    "    plt.figure(figsize=(8,6))\n",
    "    threshold_boundary = thresholds.shape[0]\n",
    "    plt.plot(thresholds, precisions[0:threshold_boundary], linestyle='--', label='precision')\n",
    "    plt.plot(thresholds, recalls[0:threshold_boundary], label='recall')\n",
    "    \n",
    "    start,end = plt.xlim()\n",
    "    plt.xticks(np.round(np.arange(start,end,0.1),2))\n",
    "    plt.xlabel('Threshold value')\n",
    "    plt.ylabel('Precision and Recall')\n",
    "    plt.legend()\n",
    "    plt.grid(True)\n",
    "    plt.show()"
   ]
  },
  {
   "cell_type": "markdown",
   "id": "fa6be821",
   "metadata": {},
   "source": [
    "### roc_curve, roc_auc_score"
   ]
  },
  {
   "cell_type": "code",
   "execution_count": null,
   "id": "64732453",
   "metadata": {},
   "outputs": [],
   "source": [
    "# 레이블 값이 1일 떄의 예측확률을 추출,\n",
    "pred_proba = clf.predict_proba(X_test)[:,1]\n",
    "\n",
    "fprs, tprs, thresholds = roc_curve(y_test, pred_proba)\n",
    "\n",
    "thr_idx = np.arange(0,thresholds[0],5)\n",
    "print('threshold :',np.round(thresholds[thr_idx],2))\n",
    "print('fpr :',np.round(fprs[thr_idx],3))\n",
    "print('tpr :',np.round(tprs[thr_idx],3))"
   ]
  },
  {
   "cell_type": "code",
   "execution_count": null,
   "id": "d983c369",
   "metadata": {},
   "outputs": [],
   "source": [
    "def roc_curve_plot(y_test, pred_proba):\n",
    "    fprs, tprs, thresholds = roc_curve(y_test, pred_proba)\n",
    "    \n",
    "    plt.figure(figsize=(8,6))\n",
    "    plt.plot(fprs, tprs, label='ROC')\n",
    "    plt.plot([0,1],[0,1],linestyle='--', color='k', label='Random')\n",
    "    \n",
    "    start, end = plt.xlim()\n",
    "    plt.xticks(np.round(np.arange(start,end,0.1),2))\n",
    "    plt.xlim(0,1)\n",
    "    plt.ylim(0,1)\n",
    "    plt.xlabel('FPR(1 - Sensitivity)')\n",
    "    plt.ylabel('TPR(Recall)')\n",
    "    plt.legend()\n",
    "    plt.show()"
   ]
  },
  {
   "cell_type": "code",
   "execution_count": null,
   "id": "b1c98ac1",
   "metadata": {},
   "outputs": [],
   "source": [
    "roc_score = roc_auc_score(y_test, pred_proba)\n",
    "print('ROC AUC Score : {0:.4f}'.format(roc_score))"
   ]
  },
  {
   "cell_type": "code",
   "execution_count": null,
   "id": "79e5a45f",
   "metadata": {},
   "outputs": [],
   "source": [
    "plot_roc_curve(estimator, x, y)"
   ]
  }
 ],
 "metadata": {
  "kernelspec": {
   "display_name": "Python 3",
   "language": "python",
   "name": "python3"
  },
  "language_info": {
   "codemirror_mode": {
    "name": "ipython",
    "version": 3
   },
   "file_extension": ".py",
   "mimetype": "text/x-python",
   "name": "python",
   "nbconvert_exporter": "python",
   "pygments_lexer": "ipython3",
   "version": "3.8.8"
  }
 },
 "nbformat": 4,
 "nbformat_minor": 5
}
