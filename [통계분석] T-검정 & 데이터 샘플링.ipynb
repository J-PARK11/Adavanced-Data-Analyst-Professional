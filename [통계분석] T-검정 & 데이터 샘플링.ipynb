{
 "cells": [
  {
   "cell_type": "markdown",
   "id": "6dea383f",
   "metadata": {},
   "source": [
    "# T-test & DataSampling"
   ]
  },
  {
   "cell_type": "code",
   "execution_count": 1,
   "id": "b8e813f4",
   "metadata": {},
   "outputs": [],
   "source": [
    "import pandas as pd\n",
    "import numpy as np\n",
    "import matplotlib as mpl\n",
    "import  matplotlib.pyplot as plt\n",
    "import seaborn as sns\n",
    "\n",
    "mpl.rcParams['font.family'] = 'Malgun Gothic'\n",
    "mpl.rcParams['axes.unicode_minus'] = False\n",
    "plt.style.use(\"ggplot\")\n",
    "from IPython.display import set_matplotlib_formats\n",
    "set_matplotlib_formats(\"retina\")\n",
    "\n",
    "import warnings\n",
    "warnings.filterwarnings(\"ignore\")\n",
    "\n",
    "from scipy import stats\n",
    "from sklearn.datasets import load_iris\n",
    "from sklearn.model_selection import train_test_split"
   ]
  },
  {
   "cell_type": "markdown",
   "id": "2fa75b13",
   "metadata": {},
   "source": [
    "## Data Sampling"
   ]
  },
  {
   "cell_type": "code",
   "execution_count": 2,
   "id": "6ac01557",
   "metadata": {},
   "outputs": [
    {
     "name": "stdout",
     "output_type": "stream",
     "text": [
      "(150, 4)\n"
     ]
    },
    {
     "data": {
      "text/html": [
       "<div>\n",
       "<style scoped>\n",
       "    .dataframe tbody tr th:only-of-type {\n",
       "        vertical-align: middle;\n",
       "    }\n",
       "\n",
       "    .dataframe tbody tr th {\n",
       "        vertical-align: top;\n",
       "    }\n",
       "\n",
       "    .dataframe thead th {\n",
       "        text-align: right;\n",
       "    }\n",
       "</style>\n",
       "<table border=\"1\" class=\"dataframe\">\n",
       "  <thead>\n",
       "    <tr style=\"text-align: right;\">\n",
       "      <th></th>\n",
       "      <th>sepal length</th>\n",
       "      <th>sepal width</th>\n",
       "      <th>petal length</th>\n",
       "      <th>petal width</th>\n",
       "      <th>target</th>\n",
       "    </tr>\n",
       "  </thead>\n",
       "  <tbody>\n",
       "    <tr>\n",
       "      <th>0</th>\n",
       "      <td>5.1</td>\n",
       "      <td>3.5</td>\n",
       "      <td>1.4</td>\n",
       "      <td>0.2</td>\n",
       "      <td>0</td>\n",
       "    </tr>\n",
       "    <tr>\n",
       "      <th>1</th>\n",
       "      <td>4.9</td>\n",
       "      <td>3.0</td>\n",
       "      <td>1.4</td>\n",
       "      <td>0.2</td>\n",
       "      <td>0</td>\n",
       "    </tr>\n",
       "    <tr>\n",
       "      <th>2</th>\n",
       "      <td>4.7</td>\n",
       "      <td>3.2</td>\n",
       "      <td>1.3</td>\n",
       "      <td>0.2</td>\n",
       "      <td>0</td>\n",
       "    </tr>\n",
       "    <tr>\n",
       "      <th>3</th>\n",
       "      <td>4.6</td>\n",
       "      <td>3.1</td>\n",
       "      <td>1.5</td>\n",
       "      <td>0.2</td>\n",
       "      <td>0</td>\n",
       "    </tr>\n",
       "    <tr>\n",
       "      <th>4</th>\n",
       "      <td>5.0</td>\n",
       "      <td>3.6</td>\n",
       "      <td>1.4</td>\n",
       "      <td>0.2</td>\n",
       "      <td>0</td>\n",
       "    </tr>\n",
       "  </tbody>\n",
       "</table>\n",
       "</div>"
      ],
      "text/plain": [
       "   sepal length  sepal width  petal length  petal width  target\n",
       "0           5.1          3.5           1.4          0.2       0\n",
       "1           4.9          3.0           1.4          0.2       0\n",
       "2           4.7          3.2           1.3          0.2       0\n",
       "3           4.6          3.1           1.5          0.2       0\n",
       "4           5.0          3.6           1.4          0.2       0"
      ]
     },
     "execution_count": 2,
     "metadata": {},
     "output_type": "execute_result"
    }
   ],
   "source": [
    "# load iris\n",
    "iris = load_iris()\n",
    "columns = ['sepal length', 'sepal width', 'petal length', 'petal width']\n",
    "iris_df = pd.DataFrame(iris['data'], columns=columns)\n",
    "print(iris_df.shape)\n",
    "\n",
    "iris_data = iris_df.copy()\n",
    "iris_df['target'] = iris.target\n",
    "iris_df.head()"
   ]
  },
  {
   "cell_type": "markdown",
   "id": "d8fd6fed",
   "metadata": {},
   "source": [
    "### 단순랜덤추출법"
   ]
  },
  {
   "cell_type": "code",
   "execution_count": 3,
   "id": "b734786a",
   "metadata": {},
   "outputs": [
    {
     "data": {
      "text/html": [
       "<div>\n",
       "<style scoped>\n",
       "    .dataframe tbody tr th:only-of-type {\n",
       "        vertical-align: middle;\n",
       "    }\n",
       "\n",
       "    .dataframe tbody tr th {\n",
       "        vertical-align: top;\n",
       "    }\n",
       "\n",
       "    .dataframe thead th {\n",
       "        text-align: right;\n",
       "    }\n",
       "</style>\n",
       "<table border=\"1\" class=\"dataframe\">\n",
       "  <thead>\n",
       "    <tr style=\"text-align: right;\">\n",
       "      <th></th>\n",
       "      <th>sepal length</th>\n",
       "      <th>sepal width</th>\n",
       "      <th>petal length</th>\n",
       "      <th>petal width</th>\n",
       "    </tr>\n",
       "  </thead>\n",
       "  <tbody>\n",
       "    <tr>\n",
       "      <th>36</th>\n",
       "      <td>5.5</td>\n",
       "      <td>3.5</td>\n",
       "      <td>1.3</td>\n",
       "      <td>0.2</td>\n",
       "    </tr>\n",
       "    <tr>\n",
       "      <th>88</th>\n",
       "      <td>5.6</td>\n",
       "      <td>3.0</td>\n",
       "      <td>4.1</td>\n",
       "      <td>1.3</td>\n",
       "    </tr>\n",
       "    <tr>\n",
       "      <th>91</th>\n",
       "      <td>6.1</td>\n",
       "      <td>3.0</td>\n",
       "      <td>4.6</td>\n",
       "      <td>1.4</td>\n",
       "    </tr>\n",
       "    <tr>\n",
       "      <th>78</th>\n",
       "      <td>6.0</td>\n",
       "      <td>2.9</td>\n",
       "      <td>4.5</td>\n",
       "      <td>1.5</td>\n",
       "    </tr>\n",
       "    <tr>\n",
       "      <th>37</th>\n",
       "      <td>4.9</td>\n",
       "      <td>3.6</td>\n",
       "      <td>1.4</td>\n",
       "      <td>0.1</td>\n",
       "    </tr>\n",
       "  </tbody>\n",
       "</table>\n",
       "</div>"
      ],
      "text/plain": [
       "    sepal length  sepal width  petal length  petal width\n",
       "36           5.5          3.5           1.3          0.2\n",
       "88           5.6          3.0           4.1          1.3\n",
       "91           6.1          3.0           4.6          1.4\n",
       "78           6.0          2.9           4.5          1.5\n",
       "37           4.9          3.6           1.4          0.1"
      ]
     },
     "execution_count": 3,
     "metadata": {},
     "output_type": "execute_result"
    }
   ],
   "source": [
    "#iris_data.sample(2, replace=False)\n",
    "iris_data.sample(frac = 0.7, replace=False).head()"
   ]
  },
  {
   "cell_type": "code",
   "execution_count": 4,
   "id": "c71fc5dd",
   "metadata": {},
   "outputs": [
    {
     "data": {
      "text/html": [
       "<div>\n",
       "<style scoped>\n",
       "    .dataframe tbody tr th:only-of-type {\n",
       "        vertical-align: middle;\n",
       "    }\n",
       "\n",
       "    .dataframe tbody tr th {\n",
       "        vertical-align: top;\n",
       "    }\n",
       "\n",
       "    .dataframe thead th {\n",
       "        text-align: right;\n",
       "    }\n",
       "</style>\n",
       "<table border=\"1\" class=\"dataframe\">\n",
       "  <thead>\n",
       "    <tr style=\"text-align: right;\">\n",
       "      <th></th>\n",
       "      <th>sepal length</th>\n",
       "      <th>sepal width</th>\n",
       "      <th>petal length</th>\n",
       "      <th>petal width</th>\n",
       "    </tr>\n",
       "  </thead>\n",
       "  <tbody>\n",
       "    <tr>\n",
       "      <th>90</th>\n",
       "      <td>5.5</td>\n",
       "      <td>2.6</td>\n",
       "      <td>4.4</td>\n",
       "      <td>1.2</td>\n",
       "    </tr>\n",
       "    <tr>\n",
       "      <th>12</th>\n",
       "      <td>4.8</td>\n",
       "      <td>3.0</td>\n",
       "      <td>1.4</td>\n",
       "      <td>0.1</td>\n",
       "    </tr>\n",
       "    <tr>\n",
       "      <th>60</th>\n",
       "      <td>5.0</td>\n",
       "      <td>2.0</td>\n",
       "      <td>3.5</td>\n",
       "      <td>1.0</td>\n",
       "    </tr>\n",
       "    <tr>\n",
       "      <th>9</th>\n",
       "      <td>4.9</td>\n",
       "      <td>3.1</td>\n",
       "      <td>1.5</td>\n",
       "      <td>0.1</td>\n",
       "    </tr>\n",
       "    <tr>\n",
       "      <th>105</th>\n",
       "      <td>7.6</td>\n",
       "      <td>3.0</td>\n",
       "      <td>6.6</td>\n",
       "      <td>2.1</td>\n",
       "    </tr>\n",
       "  </tbody>\n",
       "</table>\n",
       "</div>"
      ],
      "text/plain": [
       "     sepal length  sepal width  petal length  petal width\n",
       "90            5.5          2.6           4.4          1.2\n",
       "12            4.8          3.0           1.4          0.1\n",
       "60            5.0          2.0           3.5          1.0\n",
       "9             4.9          3.1           1.5          0.1\n",
       "105           7.6          3.0           6.6          2.1"
      ]
     },
     "execution_count": 4,
     "metadata": {},
     "output_type": "execute_result"
    }
   ],
   "source": [
    "# 단순랜덤추출법\n",
    "X_train, X_test, y_train, y_test = train_test_split(iris_data, iris.target, train_size = 0.8, test_size = 0.2, shuffle=True)\n",
    "X_train.head()"
   ]
  },
  {
   "cell_type": "markdown",
   "id": "34778e80",
   "metadata": {},
   "source": [
    "### 계통추출법"
   ]
  },
  {
   "cell_type": "code",
   "execution_count": 5,
   "id": "38ca955f",
   "metadata": {},
   "outputs": [
    {
     "data": {
      "text/html": [
       "<div>\n",
       "<style scoped>\n",
       "    .dataframe tbody tr th:only-of-type {\n",
       "        vertical-align: middle;\n",
       "    }\n",
       "\n",
       "    .dataframe tbody tr th {\n",
       "        vertical-align: top;\n",
       "    }\n",
       "\n",
       "    .dataframe thead th {\n",
       "        text-align: right;\n",
       "    }\n",
       "</style>\n",
       "<table border=\"1\" class=\"dataframe\">\n",
       "  <thead>\n",
       "    <tr style=\"text-align: right;\">\n",
       "      <th></th>\n",
       "      <th>sepal length</th>\n",
       "      <th>sepal width</th>\n",
       "      <th>petal length</th>\n",
       "      <th>petal width</th>\n",
       "    </tr>\n",
       "  </thead>\n",
       "  <tbody>\n",
       "    <tr>\n",
       "      <th>81</th>\n",
       "      <td>5.5</td>\n",
       "      <td>2.4</td>\n",
       "      <td>3.7</td>\n",
       "      <td>1.0</td>\n",
       "    </tr>\n",
       "    <tr>\n",
       "      <th>56</th>\n",
       "      <td>6.3</td>\n",
       "      <td>3.3</td>\n",
       "      <td>4.7</td>\n",
       "      <td>1.6</td>\n",
       "    </tr>\n",
       "    <tr>\n",
       "      <th>4</th>\n",
       "      <td>5.0</td>\n",
       "      <td>3.6</td>\n",
       "      <td>1.4</td>\n",
       "      <td>0.2</td>\n",
       "    </tr>\n",
       "    <tr>\n",
       "      <th>28</th>\n",
       "      <td>5.2</td>\n",
       "      <td>3.4</td>\n",
       "      <td>1.4</td>\n",
       "      <td>0.2</td>\n",
       "    </tr>\n",
       "    <tr>\n",
       "      <th>122</th>\n",
       "      <td>7.7</td>\n",
       "      <td>2.8</td>\n",
       "      <td>6.7</td>\n",
       "      <td>2.0</td>\n",
       "    </tr>\n",
       "  </tbody>\n",
       "</table>\n",
       "</div>"
      ],
      "text/plain": [
       "     sepal length  sepal width  petal length  petal width\n",
       "81            5.5          2.4           3.7          1.0\n",
       "56            6.3          3.3           4.7          1.6\n",
       "4             5.0          3.6           1.4          0.2\n",
       "28            5.2          3.4           1.4          0.2\n",
       "122           7.7          2.8           6.7          2.0"
      ]
     },
     "execution_count": 5,
     "metadata": {},
     "output_type": "execute_result"
    }
   ],
   "source": [
    "# 계통추출법\n",
    "X_train, X_test, y_train, y_test = train_test_split(iris_data, iris.target, train_size = 0.8, test_size = 0.2, shuffle=True, stratify = iris.target)\n",
    "X_train.head()"
   ]
  },
  {
   "cell_type": "code",
   "execution_count": 6,
   "id": "ff645580",
   "metadata": {},
   "outputs": [
    {
     "name": "stdout",
     "output_type": "stream",
     "text": [
      "(50, 5)\n",
      "0    20\n",
      "1    15\n",
      "2    15\n",
      "Name: target, dtype: int64\n"
     ]
    },
    {
     "data": {
      "text/html": [
       "<div>\n",
       "<style scoped>\n",
       "    .dataframe tbody tr th:only-of-type {\n",
       "        vertical-align: middle;\n",
       "    }\n",
       "\n",
       "    .dataframe tbody tr th {\n",
       "        vertical-align: top;\n",
       "    }\n",
       "\n",
       "    .dataframe thead th {\n",
       "        text-align: right;\n",
       "    }\n",
       "</style>\n",
       "<table border=\"1\" class=\"dataframe\">\n",
       "  <thead>\n",
       "    <tr style=\"text-align: right;\">\n",
       "      <th></th>\n",
       "      <th>sepal length</th>\n",
       "      <th>sepal width</th>\n",
       "      <th>petal length</th>\n",
       "      <th>petal width</th>\n",
       "      <th>target</th>\n",
       "    </tr>\n",
       "  </thead>\n",
       "  <tbody>\n",
       "    <tr>\n",
       "      <th>40</th>\n",
       "      <td>5.0</td>\n",
       "      <td>3.5</td>\n",
       "      <td>1.3</td>\n",
       "      <td>0.3</td>\n",
       "      <td>0</td>\n",
       "    </tr>\n",
       "    <tr>\n",
       "      <th>35</th>\n",
       "      <td>5.0</td>\n",
       "      <td>3.2</td>\n",
       "      <td>1.2</td>\n",
       "      <td>0.2</td>\n",
       "      <td>0</td>\n",
       "    </tr>\n",
       "    <tr>\n",
       "      <th>2</th>\n",
       "      <td>4.7</td>\n",
       "      <td>3.2</td>\n",
       "      <td>1.3</td>\n",
       "      <td>0.2</td>\n",
       "      <td>0</td>\n",
       "    </tr>\n",
       "    <tr>\n",
       "      <th>31</th>\n",
       "      <td>5.4</td>\n",
       "      <td>3.4</td>\n",
       "      <td>1.5</td>\n",
       "      <td>0.4</td>\n",
       "      <td>0</td>\n",
       "    </tr>\n",
       "    <tr>\n",
       "      <th>13</th>\n",
       "      <td>4.3</td>\n",
       "      <td>3.0</td>\n",
       "      <td>1.1</td>\n",
       "      <td>0.1</td>\n",
       "      <td>0</td>\n",
       "    </tr>\n",
       "  </tbody>\n",
       "</table>\n",
       "</div>"
      ],
      "text/plain": [
       "    sepal length  sepal width  petal length  petal width target\n",
       "40           5.0          3.5           1.3          0.3      0\n",
       "35           5.0          3.2           1.2          0.2      0\n",
       "2            4.7          3.2           1.3          0.2      0\n",
       "31           5.4          3.4           1.5          0.4      0\n",
       "13           4.3          3.0           1.1          0.1      0"
      ]
     },
     "execution_count": 6,
     "metadata": {},
     "output_type": "execute_result"
    }
   ],
   "source": [
    "# Customized 계통추출법\n",
    "result = pd.DataFrame(columns=iris_df.columns)\n",
    "for n,i in zip([20,15,15],[0,1,2]):\n",
    "    subset = iris_df[iris_df['target']==i]\n",
    "    sample = subset.sample(n, replace=False)\n",
    "    result = pd.concat([result,sample],axis=0)\n",
    "print(result.shape)\n",
    "print(result['target'].value_counts())\n",
    "result.head()    "
   ]
  },
  {
   "cell_type": "markdown",
   "id": "5daf4603",
   "metadata": {},
   "source": [
    "## T-Test"
   ]
  },
  {
   "cell_type": "markdown",
   "id": "83f96c21",
   "metadata": {},
   "source": [
    "### 일표본 T-검정"
   ]
  },
  {
   "cell_type": "code",
   "execution_count": 7,
   "id": "29e29690",
   "metadata": {},
   "outputs": [
    {
     "name": "stdout",
     "output_type": "stream",
     "text": [
      "cats.shape : (144, 3)\n"
     ]
    },
    {
     "data": {
      "text/html": [
       "<div>\n",
       "<style scoped>\n",
       "    .dataframe tbody tr th:only-of-type {\n",
       "        vertical-align: middle;\n",
       "    }\n",
       "\n",
       "    .dataframe tbody tr th {\n",
       "        vertical-align: top;\n",
       "    }\n",
       "\n",
       "    .dataframe thead th {\n",
       "        text-align: right;\n",
       "    }\n",
       "</style>\n",
       "<table border=\"1\" class=\"dataframe\">\n",
       "  <thead>\n",
       "    <tr style=\"text-align: right;\">\n",
       "      <th></th>\n",
       "      <th>Sex</th>\n",
       "      <th>Bwt</th>\n",
       "      <th>Hwt</th>\n",
       "    </tr>\n",
       "  </thead>\n",
       "  <tbody>\n",
       "    <tr>\n",
       "      <th>1</th>\n",
       "      <td>F</td>\n",
       "      <td>2.0</td>\n",
       "      <td>7.0</td>\n",
       "    </tr>\n",
       "    <tr>\n",
       "      <th>2</th>\n",
       "      <td>F</td>\n",
       "      <td>2.0</td>\n",
       "      <td>7.4</td>\n",
       "    </tr>\n",
       "    <tr>\n",
       "      <th>3</th>\n",
       "      <td>F</td>\n",
       "      <td>2.0</td>\n",
       "      <td>9.5</td>\n",
       "    </tr>\n",
       "    <tr>\n",
       "      <th>4</th>\n",
       "      <td>F</td>\n",
       "      <td>2.1</td>\n",
       "      <td>7.2</td>\n",
       "    </tr>\n",
       "    <tr>\n",
       "      <th>5</th>\n",
       "      <td>F</td>\n",
       "      <td>2.1</td>\n",
       "      <td>7.3</td>\n",
       "    </tr>\n",
       "  </tbody>\n",
       "</table>\n",
       "</div>"
      ],
      "text/plain": [
       "  Sex  Bwt  Hwt\n",
       "1   F  2.0  7.0\n",
       "2   F  2.0  7.4\n",
       "3   F  2.0  9.5\n",
       "4   F  2.1  7.2\n",
       "5   F  2.1  7.3"
      ]
     },
     "execution_count": 7,
     "metadata": {},
     "output_type": "execute_result"
    }
   ],
   "source": [
    "cats = pd.read_csv('data/cats.csv',index_col='Unnamed: 0')\n",
    "print('cats.shape :',cats.shape)\n",
    "cats.head()"
   ]
  },
  {
   "cell_type": "code",
   "execution_count": 8,
   "id": "6c03371e",
   "metadata": {
    "scrolled": true
   },
   "outputs": [
    {
     "data": {
      "image/png": "[encoded data removed]",
      "text/plain": [
       "<Figure size 432x288 with 1 Axes>"
      ]
     },
     "metadata": {
      "image/png": {
       "height": 252,
       "width": 393
      }
     },
     "output_type": "display_data"
    }
   ],
   "source": [
    "# 이상치 처리\n",
    "sns.boxplot(data=cats, y='Bwt')\n",
    "plt.title('Outlier Boxplot')\n",
    "plt.ylabel('Bwt',size=15)\n",
    "plt.show()\n",
    "# 이상치가 발견되지 않았음으로 정상성 검증 단계로 넘어간다."
   ]
  },
  {
   "cell_type": "code",
   "execution_count": 10,
   "id": "e2005f5b",
   "metadata": {},
   "outputs": [
    {
     "data": {
      "text/plain": [
       "1      2.0\n",
       "2      2.0\n",
       "3      2.0\n",
       "4      2.1\n",
       "5      2.1\n",
       "      ... \n",
       "140    3.7\n",
       "141    3.8\n",
       "142    3.8\n",
       "143    3.9\n",
       "144    3.9\n",
       "Name: Bwt, Length: 144, dtype: float64"
      ]
     },
     "execution_count": 10,
     "metadata": {},
     "output_type": "execute_result"
    }
   ],
   "source": [
    "def outlier_preprocess(x):\n",
    "    q1 = np.quantile(x, 0.25)\n",
    "    q3 = np.quantile(x, 0.75)\n",
    "    iqr = q3 - q1\n",
    "    cut_off = 1.5 * iqr\n",
    "    lower, upper = q1 - cut_off, q3 + cut_off\n",
    "    \n",
    "    return x.clip(lower,upper)\n",
    "\n",
    "#cats['Bwt'] = outlier_preprocess(cats['Bwt'])"
   ]
  },
  {
   "cell_type": "code",
   "execution_count": 25,
   "id": "9ba6d5ff",
   "metadata": {},
   "outputs": [
    {
     "name": "stdout",
     "output_type": "stream",
     "text": [
      "0.9772498680518208 5.089961007561737e-237\n"
     ]
    }
   ],
   "source": [
    "# 정상성 검증\n",
    "# 표본 수가 50개가 넘음으로 콜모고로프 스미르노프 정상성 검정 시행\n",
    "ks_statistic, p_value = stats.kstest(cats['Bwt'], alternative='two-sided', cdf='norm')\n",
    "print(ks_statistic,p_value)\n",
    "# 유의확률(p-value)이 유의수준 0.05 보다 작음으로 정상성을 만족하지 않는다."
   ]
  },
  {
   "cell_type": "code",
   "execution_count": 27,
   "id": "ff603227",
   "metadata": {},
   "outputs": [
    {
     "name": "stdout",
     "output_type": "stream",
     "text": [
      "0.9518786668777466 6.730248423991725e-05\n"
     ]
    }
   ],
   "source": [
    "# 정상성 검증\n",
    "# 표본 수가 50개 미만일 경우 샤피로-윌크 검정을 시행.\n",
    "shapiro_statistic, p_value = stats.shapiro(cats['Bwt'])\n",
    "print(shapiro_statistic,p_value)\n",
    "# 유의확률(p-value)이 유의수준 0.05 보다 작음으로 정상성을 만족하지 않는다."
   ]
  },
  {
   "cell_type": "code",
   "execution_count": 87,
   "id": "9c324379",
   "metadata": {},
   "outputs": [
    {
     "name": "stdout",
     "output_type": "stream",
     "text": [
      "10.990114116322701 0.004107022119730588\n"
     ]
    }
   ],
   "source": [
    "# 정상성 검증\n",
    "k2, p = stats.normaltest(cats['Bwt'])\n",
    "print(k2, p)\n",
    "# 유의확률(p-value)이 유의수준 0.05 보다 작음으로 정상성을 만족하지 않는다."
   ]
  },
  {
   "cell_type": "code",
   "execution_count": 42,
   "id": "7d10f2b1",
   "metadata": {},
   "outputs": [
    {
     "data": {
      "text/plain": [
       "Ttest_1sampResult(statistic=3.0564867998078107, pvalue=0.0026730362561723613)"
      ]
     },
     "execution_count": 42,
     "metadata": {},
     "output_type": "execute_result"
    }
   ],
   "source": [
    "# 일표본 T-검정 -> 정상성을 만족할 경우\n",
    "t_test = stats.ttest_1samp(cats['Bwt'],popmean=2.6)\n",
    "t_test\n",
    "# t-test검정 결과, 유의확률(p-value)이 유의수준 0.05보다 작으므로 고양이의 몸무게(Bwt) 평균은 2.6이 아니다."
   ]
  },
  {
   "cell_type": "code",
   "execution_count": 44,
   "id": "6c15b34f",
   "metadata": {},
   "outputs": [
    {
     "data": {
      "text/plain": [
       "WilcoxonResult(statistic=3573.0, pvalue=0.02524520294814093)"
      ]
     },
     "execution_count": 44,
     "metadata": {},
     "output_type": "execute_result"
    }
   ],
   "source": [
    "# Wilcoxon 함수를 사용한 일표본 T-검정 -> 정상성을 만족하지 못하는 경우 (비모수적 방법)\n",
    "wilcoxon_test = stats.wilcoxon(x = cats['Bwt'] - 2.6, y=None, zero_method='wilcox',\n",
    "                               correction=False, alternative = 'two-sided')\n",
    "wilcoxon_test\n",
    "# wilcoxon t-test검정 결과, 유의확률(p-value)이 유의수준 0.05보다 작으므로 고양이의 몸무게(Bwt) 평균은 2.6이 아니다."
   ]
  },
  {
   "cell_type": "markdown",
   "id": "4c9593c6",
   "metadata": {},
   "source": [
    "### 대응표본 T-검정"
   ]
  },
  {
   "cell_type": "code",
   "execution_count": 53,
   "id": "bd73b70d",
   "metadata": {},
   "outputs": [
    {
     "name": "stdout",
     "output_type": "stream",
     "text": [
      "data.shape : (10, 2)\n"
     ]
    },
    {
     "data": {
      "text/html": [
       "<div>\n",
       "<style scoped>\n",
       "    .dataframe tbody tr th:only-of-type {\n",
       "        vertical-align: middle;\n",
       "    }\n",
       "\n",
       "    .dataframe tbody tr th {\n",
       "        vertical-align: top;\n",
       "    }\n",
       "\n",
       "    .dataframe thead th {\n",
       "        text-align: right;\n",
       "    }\n",
       "</style>\n",
       "<table border=\"1\" class=\"dataframe\">\n",
       "  <thead>\n",
       "    <tr style=\"text-align: right;\">\n",
       "      <th></th>\n",
       "      <th>before</th>\n",
       "      <th>after</th>\n",
       "    </tr>\n",
       "  </thead>\n",
       "  <tbody>\n",
       "    <tr>\n",
       "      <th>0</th>\n",
       "      <td>7</td>\n",
       "      <td>8</td>\n",
       "    </tr>\n",
       "    <tr>\n",
       "      <th>1</th>\n",
       "      <td>3</td>\n",
       "      <td>4</td>\n",
       "    </tr>\n",
       "    <tr>\n",
       "      <th>2</th>\n",
       "      <td>4</td>\n",
       "      <td>5</td>\n",
       "    </tr>\n",
       "    <tr>\n",
       "      <th>3</th>\n",
       "      <td>5</td>\n",
       "      <td>6</td>\n",
       "    </tr>\n",
       "    <tr>\n",
       "      <th>4</th>\n",
       "      <td>2</td>\n",
       "      <td>2</td>\n",
       "    </tr>\n",
       "  </tbody>\n",
       "</table>\n",
       "</div>"
      ],
      "text/plain": [
       "   before  after\n",
       "0       7      8\n",
       "1       3      4\n",
       "2       4      5\n",
       "3       5      6\n",
       "4       2      2"
      ]
     },
     "execution_count": 53,
     "metadata": {},
     "output_type": "execute_result"
    }
   ],
   "source": [
    "data = pd.DataFrame({'before':[7,3,4,5,2,1,6,6,5,4],'after':[8,4,5,6,2,3,6,8,6,5]})\n",
    "print('data.shape :',data.shape)\n",
    "data.head()"
   ]
  },
  {
   "cell_type": "code",
   "execution_count": 64,
   "id": "12543f36",
   "metadata": {},
   "outputs": [
    {
     "data": {
      "image/png": "[encoded data removed]",
      "text/plain": [
       "<Figure size 576x288 with 2 Axes>"
      ]
     },
     "metadata": {
      "image/png": {
       "height": 252,
       "width": 489
      }
     },
     "output_type": "display_data"
    }
   ],
   "source": [
    "# 이상치 처리\n",
    "fig, ax = plt.subplots(1,2, figsize=(8,4))\n",
    "sns.boxplot(data=data, y='before', ax=ax[0]).set_title('before boxplot')\n",
    "ax[0].set_ylabel('before')\n",
    "\n",
    "sns.boxplot(data=data, y='after', ax=ax[1]).set_title('after boxplot')\n",
    "ax[1].set_ylabel('after')\n",
    "plt.show()\n",
    "# 두 표본 모두 이상치는 없으므로 정상성 검증 단계로 이동."
   ]
  },
  {
   "cell_type": "code",
   "execution_count": 52,
   "id": "9833b456",
   "metadata": {},
   "outputs": [
    {
     "name": "stdout",
     "output_type": "stream",
     "text": [
      "before_shapiro : ShapiroResult(statistic=0.9644594192504883, pvalue=0.8352694511413574)\n",
      "after_shapiro : ShapiroResult(statistic=0.9456835985183716, pvalue=0.6177982091903687)\n"
     ]
    }
   ],
   "source": [
    "# 정상성 검증\n",
    "# 표본 수가 적으므로(50개 이하) 샤피로-윌크 정상성 검정 시행.\n",
    "before_shapiro = stats.shapiro(data['before'])\n",
    "after_shapiro = stats.shapiro(data['after'])\n",
    "\n",
    "print('before_shapiro :',before_shapiro)\n",
    "print('after_shapiro :',after_shapiro)\n",
    "# 두 표본 모두 유의확률이 유의수준 0.05보다 큼으로 정상성을 만족한다."
   ]
  },
  {
   "cell_type": "code",
   "execution_count": 68,
   "id": "f990134e",
   "metadata": {},
   "outputs": [
    {
     "data": {
      "text/plain": [
       "Ttest_relResult(statistic=-4.743416490252569, pvalue=0.0005269356285082764)"
      ]
     },
     "execution_count": 68,
     "metadata": {},
     "output_type": "execute_result"
    }
   ],
   "source": [
    "# 대응표본 T-검정 수행 -> 정상성을 만족할 경우 (좌단측검정 = alternative='less')\n",
    "paired_ttest = stats.ttest_rel(data['before'],data['after'],alternative='less')\n",
    "paired_ttest\n",
    "# 대응표본 T-검정 수행 결과, 유의확률이 유의수준 0.05보다 작으므로, 두 표본 간 평균값의 차이가 있다.(왼쪽이 더 작다.)"
   ]
  },
  {
   "cell_type": "code",
   "execution_count": 89,
   "id": "d6ac8b8e",
   "metadata": {},
   "outputs": [
    {
     "data": {
      "text/plain": [
       "WilcoxonResult(statistic=0.0, pvalue=0.00829921599528076)"
      ]
     },
     "execution_count": 89,
     "metadata": {},
     "output_type": "execute_result"
    }
   ],
   "source": [
    "# wilcoxon 대응표본 t-검정 수행 -> 정상성을 만족하지 못할 경우(좌단측검정 = alternative = 'less')\n",
    "wilcoxon_paired = stats.wilcoxon(x = data['before'], y=data['after'], zero_method = 'wilcox',\n",
    "                                correction = False, alternative='two-sided')\n",
    "wilcoxon_paired\n",
    "# 대응표본 T-검정 수행 결과, 유의확률이 유의수준 0.05보다 작으므로, 두 표본 간 평균값의 차이가 있다.(왼쪽이 더 작다.)"
   ]
  },
  {
   "cell_type": "markdown",
   "id": "b8677f9f",
   "metadata": {},
   "source": [
    "### 독립표본 t-검정"
   ]
  },
  {
   "cell_type": "code",
   "execution_count": 73,
   "id": "937a0617",
   "metadata": {},
   "outputs": [
    {
     "name": "stdout",
     "output_type": "stream",
     "text": [
      "male.shape : (97, 3)\n",
      "female.shape : (47, 3)\n"
     ]
    }
   ],
   "source": [
    "male = cats[cats['Sex'] == 'M']\n",
    "female = cats[cats['Sex'] == 'F']\n",
    "print('male.shape :',male.shape)\n",
    "print('female.shape :',female.shape)"
   ]
  },
  {
   "cell_type": "code",
   "execution_count": 75,
   "id": "67e7eaff",
   "metadata": {},
   "outputs": [
    {
     "data": {
      "image/png": "[encoded data removed]",
      "text/plain": [
       "<Figure size 576x288 with 2 Axes>"
      ]
     },
     "metadata": {
      "image/png": {
       "height": 252,
       "width": 502
      }
     },
     "output_type": "display_data"
    }
   ],
   "source": [
    "# 이상치 처리\n",
    "fig, ax = plt.subplots(1,2, figsize=(8,4))\n",
    "sns.boxplot(data=male, y='Bwt', ax=ax[0]).set_title('male boxplot')\n",
    "ax[0].set_ylabel('Bwt')\n",
    "\n",
    "sns.boxplot(data=female, y='Bwt', ax=ax[1]).set_title('female boxplot')\n",
    "ax[1].set_ylabel('Bwt')\n",
    "plt.show()\n",
    "# 두 독립표본 모두 이상치는 없으므로 정상성 검증 단계로 이동."
   ]
  },
  {
   "cell_type": "code",
   "execution_count": 78,
   "id": "c7594277",
   "metadata": {},
   "outputs": [
    {
     "name": "stdout",
     "output_type": "stream",
     "text": [
      "BartlettResult(statistic=15.074702450407873, pvalue=0.00010333894088535893)\n",
      "FlignerResult(statistic=16.909233669160688, pvalue=3.921038124917857e-05)\n",
      "LeveneResult(statistic=19.43101190877999, pvalue=2.0435285255189404e-05)\n"
     ]
    }
   ],
   "source": [
    "# 등분산성 검정 (bartlett, fligner, levene) - 딱히 샘플 수를 맞출필요는 없는 것 같다.\n",
    "bartlett = stats.bartlett(male['Bwt'],female['Bwt'])\n",
    "fligner = stats.fligner(male['Bwt'],female['Bwt'])\n",
    "levene = stats.levene(male['Bwt'],female['Bwt'])\n",
    "\n",
    "print(bartlett)\n",
    "print(fligner)\n",
    "print(levene)\n",
    "# 두 독립표본의 등분산성 검정은 유의확률이 유의수준 0.05보다 작으므로, 등분산성이 성립하지 않는다."
   ]
  },
  {
   "cell_type": "code",
   "execution_count": 85,
   "id": "d5534a35",
   "metadata": {},
   "outputs": [
    {
     "data": {
      "text/plain": [
       "Ttest_indResult(statistic=7.330666826537409, pvalue=1.590445378625505e-11)"
      ]
     },
     "execution_count": 85,
     "metadata": {},
     "output_type": "execute_result"
    }
   ],
   "source": [
    "# 독립표본 t-검정 -> 등분산성을 만족할 경우\n",
    "two_test = stats.ttest_ind(male['Bwt'], female['Bwt'], alternative='two-sided', equal_var = True)\n",
    "two_test\n",
    "# 독립표본 t-검정 결과, 유의확률이 유의수준 0.05보다 작으므로 두 독립표본의 평균은 통계적으로 유의한 차이가 있다."
   ]
  },
  {
   "cell_type": "code",
   "execution_count": 86,
   "id": "5ccd79a2",
   "metadata": {},
   "outputs": [
    {
     "data": {
      "text/plain": [
       "Ttest_indResult(statistic=8.70948849909559, pvalue=8.831034455859356e-15)"
      ]
     },
     "execution_count": 86,
     "metadata": {},
     "output_type": "execute_result"
    }
   ],
   "source": [
    "# 독립표본 t-검정 -> 등분산성을 만족하지 못하는 경우 (비모수적 방법)\n",
    "two_test = stats.ttest_ind(male['Bwt'], female['Bwt'], alternative='two-sided', equal_var = False)\n",
    "two_test\n",
    "# 독립표본 t-검정 결과, 유의확률이 유의수준 0.05보다 작으므로 두 독립표본의 평균은 통계적으로 유의한 차이가 있다."
   ]
  },
  {
   "cell_type": "code",
   "execution_count": 83,
   "id": "f75494af",
   "metadata": {},
   "outputs": [
    {
     "data": {
      "text/plain": [
       "MannwhitneyuResult(statistic=3801.5, pvalue=8.200502234321752e-11)"
      ]
     },
     "execution_count": 83,
     "metadata": {},
     "output_type": "execute_result"
    }
   ],
   "source": [
    "# Mann Whitney 함수를 사용한 독립표본 t-검정 -> 등분산성을 만족하지 못하는 경우(비모수적 방법)\n",
    "mann_whiteny_test = stats.mannwhitneyu(male['Bwt'], female['Bwt'], alternative='two-sided')\n",
    "mann_whiteny_test\n",
    "# Mann Whitney 독립표본 t-검정 결과, 유의확률이 유의수준 0.05보다 작으므로 두 독립표본의 평균은 유의한 차이가 있다."
   ]
  }
 ],
 "metadata": {
  "kernelspec": {
   "display_name": "Python 3",
   "language": "python",
   "name": "python3"
  },
  "language_info": {
   "codemirror_mode": {
    "name": "ipython",
    "version": 3
   },
   "file_extension": ".py",
   "mimetype": "text/x-python",
   "name": "python",
   "nbconvert_exporter": "python",
   "pygments_lexer": "ipython3",
   "version": "3.8.8"
  }
 },
 "nbformat": 4,
 "nbformat_minor": 5
}
